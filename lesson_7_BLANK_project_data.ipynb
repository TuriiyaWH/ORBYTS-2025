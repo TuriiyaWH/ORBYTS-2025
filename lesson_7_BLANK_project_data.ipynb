{
  "cells": [
    {
      "cell_type": "markdown",
      "source": [
        "##y\n"
      ],
      "metadata": {
        "id": "LrBzCtOc55Xe"
      }
    },
    {
      "cell_type": "code",
      "execution_count": 1,
      "metadata": {
        "id": "TzR9R8wA-821",
        "outputId": "761bc93e-762e-4f6c-a74b-8436f0fbabb5",
        "colab": {
          "base_uri": "https://localhost:8080/"
        }
      },
      "outputs": [
        {
          "output_type": "stream",
          "name": "stdout",
          "text": [
            "Mounted at /content/drive\n",
            "Using device: cuda\n",
            "Downloading...\n",
            "From: https://drive.google.com/uc?id=1LK65H6dtv34R_evtIHZGFPJlvCDFdWA7\n",
            "To: /content/data.hdf5\n",
            "100% 20.2M/20.2M [00:00<00:00, 42.1MB/s]\n"
          ]
        }
      ],
      "source": [
        "# Core Python libraries\n",
        "import os\n",
        "import time\n",
        "from IPython.display import clear_output, Image, display, HTML\n",
        "\n",
        "# Scientific computing\n",
        "import numpy as np\n",
        "import matplotlib.pyplot as plt\n",
        "import xarray as xr\n",
        "\n",
        "# PyTorch core\n",
        "import torch\n",
        "import torch.nn as nn\n",
        "import torch.nn.functional as F\n",
        "import torch.optim as optim\n",
        "import torch.nn.init as init\n",
        "from torch.utils.data import DataLoader, TensorDataset\n",
        "from torch.utils.data import random_split\n",
        "from torch.optim.lr_scheduler import ReduceLROnPlateau\n",
        "\n",
        "# Sklearn utilities\n",
        "from sklearn.model_selection import train_test_split\n",
        "from sklearn.preprocessing import StandardScaler, MinMaxScaler\n",
        "\n",
        "# Google Colab (if running in Colab)\n",
        "from google.colab import drive\n",
        "\n",
        "#MOUNT AND R/W DRIVE\n",
        "drive.mount('/content/drive')\n",
        "save_path = \"/content/drive/MyDrive/Weights/best_model.pth\"\n",
        "\n",
        "#GPU or CPU  device setup\n",
        "device = torch.device(\"cuda\" if torch.cuda.is_available() else \"cpu\")\n",
        "print(f\"Using device: {device}\")\n",
        "\n",
        "\n",
        "#download data\n",
        "if not os.path.exists(\"data.hdf5\"):\n",
        "    !gdown https://drive.google.com/uc?id=1LK65H6dtv34R_evtIHZGFPJlvCDFdWA7 -O data.hdf5\n"
      ]
    },
    {
      "cell_type": "markdown",
      "source": [
        "##Normalisation function"
      ],
      "metadata": {
        "id": "HxExASbGjxau"
      }
    },
    {
      "cell_type": "code",
      "source": [
        "def z_score_normaliser(x, dim=None):\n",
        "    x = np.array(x)\n",
        "    mean = np.mean(x, axis=dim, keepdims=True)\n",
        "    std = np.std(x, axis=dim, keepdims=True)\n",
        "    x = (x - mean) / (std + np.finfo(float).eps)  # Avoid divide-by-zero\n",
        "    return x\n"
      ],
      "metadata": {
        "id": "cE5eT1yvjw5H"
      },
      "execution_count": 3,
      "outputs": []
    },
    {
      "cell_type": "markdown",
      "source": [
        "##standardisation and augmentation"
      ],
      "metadata": {
        "id": "7kmrB_wj5-6H"
      }
    },
    {
      "cell_type": "code",
      "source": [
        "# Load dataset NumPy Method\n",
        "# log_H2O  log_CO2  log_CH4  log_CO  log_NH3\n",
        "\n",
        "# open hdf5\n",
        "ds = xr.open_dataset(\"data.hdf5\")\n",
        "\n",
        "rah='log_H2O'\n",
        "rahh=rah[4:]\n",
        "\n",
        "mol_header = ds['molecules'].values\n",
        "chemical_abundances = ds['log_abundance'].values\n",
        "\n",
        "print(mol_header)\n",
        "print(chemical_abundances.shape)\n",
        "\n",
        "included_molecules = ['H2O']\n",
        "index = np.isin(mol_header, included_molecules)\n",
        "\n",
        "labels_np = chemical_abundances[:, index]\n",
        "labels_np.shape\n",
        "\n",
        "spectra_np = ds['spectra'].values\n",
        "spectra_np = np.nan_to_num(spectra_np)  # Replace NaNs with 0\n",
        "spectra_np = z_score_normaliser(spectra_np, dim=1)  # Normalize each sample\n",
        "\n",
        "#Add slight noise for augmentation\n",
        "noise_strength = 0.01\n",
        "augmented_spectra = spectra_np + np.random.normal(0, noise_strength, spectra_np.shape)\n",
        "augmented_labels = labels_np.copy()\n",
        "\n",
        "#augmented_spectra1 = spectra_np + np.random.normal(0, noise_strength, spectra_np.shape)\n",
        "#augmented_labels1 = augmented_labels.copy()\n",
        "\n",
        "# Combine original and augmented\n",
        "spectra_np = np.concatenate([spectra_np, augmented_spectra], axis=0)\n",
        "#spectra_np = np.concatenate([spectra_np, augmented_spectra1], axis=0)\n",
        "labels_np = np.concatenate([labels_np, augmented_labels], axis=0)\n",
        "#labels_np = np.concatenate([labels_np, augmented_labels1], axis=0)\n",
        "\n",
        "print(spectra_np.shape)\n",
        "print(labels_np.shape)\n",
        "\n",
        "train_dataset = TensorDataset(torch.Tensor(spectra_np), torch.Tensor(labels_np))\n",
        "train_loader = DataLoader(train_dataset, batch_size=64, shuffle=True)\n",
        "\n",
        "\n",
        "ds\n",
        "\n"
      ],
      "metadata": {
        "id": "Ph8VRnwktf6R",
        "outputId": "da4c0a81-7e3e-47e7-822e-b35cd19b6f23",
        "colab": {
          "base_uri": "https://localhost:8080/",
          "height": 697
        }
      },
      "execution_count": 20,
      "outputs": [
        {
          "output_type": "stream",
          "name": "stdout",
          "text": [
            "['PH3' 'P2H2_cis' 'P2H2_trans' 'O2' 'NH3' 'N2' 'H2O' 'CO2' 'CO' 'CH4']\n",
            "(30000, 10)\n",
            "(60000, 52)\n",
            "(60000, 1)\n"
          ]
        },
        {
          "output_type": "stream",
          "name": "stderr",
          "text": [
            "/usr/local/lib/python3.11/dist-packages/numpy/_core/_methods.py:127: RuntimeWarning: overflow encountered in reduce\n",
            "  ret = umr_sum(arr, axis, dtype, out, keepdims, where=where)\n",
            "/usr/local/lib/python3.11/dist-packages/numpy/_core/_methods.py:164: RuntimeWarning: overflow encountered in reduce\n",
            "  arrmean = umr_sum(arr, axis, dtype, keepdims=True, where=where)\n",
            "/usr/local/lib/python3.11/dist-packages/numpy/_core/_methods.py:188: RuntimeWarning: overflow encountered in multiply\n",
            "  x = um.multiply(x, x, out=x)\n",
            "<ipython-input-3-81992d1712fe>:5: RuntimeWarning: invalid value encountered in divide\n",
            "  x = (x - mean) / (std + np.finfo(float).eps)  # Avoid divide-by-zero\n"
          ]
        },
        {
          "output_type": "execute_result",
          "data": {
            "text/plain": [
              "<xarray.Dataset> Size: 18MB\n",
              "Dimensions:             (samples: 30000, molecules: 10, wavelength: 52)\n",
              "Coordinates:\n",
              "  * samples             (samples) int64 240kB 0 1 2 3 ... 29997 29998 29999\n",
              "  * molecules           (molecules) <U10 400B 'PH3' 'P2H2_cis' ... 'CO' 'CH4'\n",
              "  * wavelength          (wavelength) float64 416B 0.55 0.7 0.95 ... 6.814 7.276\n",
              "Data variables:\n",
              "    log_abundance       (samples, molecules) float64 2MB -7.855 ... -7.177\n",
              "    star_temperature    (samples) int64 240kB ...\n",
              "    star_radius         (samples) float64 240kB ...\n",
              "    planet_mass         (samples) float64 240kB ...\n",
              "    planet_radius       (samples) float64 240kB ...\n",
              "    planet_temperature  (samples) float64 240kB ...\n",
              "    planet_distance     (samples) float64 240kB ...\n",
              "    stellar_class       (samples) <U1 120kB ...\n",
              "    planet_class        (samples) <U15 2MB ...\n",
              "    spectra             (samples, wavelength) float64 12MB 0.01328 ... 0.0"
            ],
            "text/html": [
              "<div><svg style=\"position: absolute; width: 0; height: 0; overflow: hidden\">\n",
              "<defs>\n",
              "<symbol id=\"icon-database\" viewBox=\"0 0 32 32\">\n",
              "<path d=\"M16 0c-8.837 0-16 2.239-16 5v4c0 2.761 7.163 5 16 5s16-2.239 16-5v-4c0-2.761-7.163-5-16-5z\"></path>\n",
              "<path d=\"M16 17c-8.837 0-16-2.239-16-5v6c0 2.761 7.163 5 16 5s16-2.239 16-5v-6c0 2.761-7.163 5-16 5z\"></path>\n",
              "<path d=\"M16 26c-8.837 0-16-2.239-16-5v6c0 2.761 7.163 5 16 5s16-2.239 16-5v-6c0 2.761-7.163 5-16 5z\"></path>\n",
              "</symbol>\n",
              "<symbol id=\"icon-file-text2\" viewBox=\"0 0 32 32\">\n",
              "<path d=\"M28.681 7.159c-0.694-0.947-1.662-2.053-2.724-3.116s-2.169-2.030-3.116-2.724c-1.612-1.182-2.393-1.319-2.841-1.319h-15.5c-1.378 0-2.5 1.121-2.5 2.5v27c0 1.378 1.122 2.5 2.5 2.5h23c1.378 0 2.5-1.122 2.5-2.5v-19.5c0-0.448-0.137-1.23-1.319-2.841zM24.543 5.457c0.959 0.959 1.712 1.825 2.268 2.543h-4.811v-4.811c0.718 0.556 1.584 1.309 2.543 2.268zM28 29.5c0 0.271-0.229 0.5-0.5 0.5h-23c-0.271 0-0.5-0.229-0.5-0.5v-27c0-0.271 0.229-0.5 0.5-0.5 0 0 15.499-0 15.5 0v7c0 0.552 0.448 1 1 1h7v19.5z\"></path>\n",
              "<path d=\"M23 26h-14c-0.552 0-1-0.448-1-1s0.448-1 1-1h14c0.552 0 1 0.448 1 1s-0.448 1-1 1z\"></path>\n",
              "<path d=\"M23 22h-14c-0.552 0-1-0.448-1-1s0.448-1 1-1h14c0.552 0 1 0.448 1 1s-0.448 1-1 1z\"></path>\n",
              "<path d=\"M23 18h-14c-0.552 0-1-0.448-1-1s0.448-1 1-1h14c0.552 0 1 0.448 1 1s-0.448 1-1 1z\"></path>\n",
              "</symbol>\n",
              "</defs>\n",
              "</svg>\n",
              "<style>/* CSS stylesheet for displaying xarray objects in jupyterlab.\n",
              " *\n",
              " */\n",
              "\n",
              ":root {\n",
              "  --xr-font-color0: var(--jp-content-font-color0, rgba(0, 0, 0, 1));\n",
              "  --xr-font-color2: var(--jp-content-font-color2, rgba(0, 0, 0, 0.54));\n",
              "  --xr-font-color3: var(--jp-content-font-color3, rgba(0, 0, 0, 0.38));\n",
              "  --xr-border-color: var(--jp-border-color2, #e0e0e0);\n",
              "  --xr-disabled-color: var(--jp-layout-color3, #bdbdbd);\n",
              "  --xr-background-color: var(--jp-layout-color0, white);\n",
              "  --xr-background-color-row-even: var(--jp-layout-color1, white);\n",
              "  --xr-background-color-row-odd: var(--jp-layout-color2, #eeeeee);\n",
              "}\n",
              "\n",
              "html[theme=\"dark\"],\n",
              "html[data-theme=\"dark\"],\n",
              "body[data-theme=\"dark\"],\n",
              "body.vscode-dark {\n",
              "  --xr-font-color0: rgba(255, 255, 255, 1);\n",
              "  --xr-font-color2: rgba(255, 255, 255, 0.54);\n",
              "  --xr-font-color3: rgba(255, 255, 255, 0.38);\n",
              "  --xr-border-color: #1f1f1f;\n",
              "  --xr-disabled-color: #515151;\n",
              "  --xr-background-color: #111111;\n",
              "  --xr-background-color-row-even: #111111;\n",
              "  --xr-background-color-row-odd: #313131;\n",
              "}\n",
              "\n",
              ".xr-wrap {\n",
              "  display: block !important;\n",
              "  min-width: 300px;\n",
              "  max-width: 700px;\n",
              "}\n",
              "\n",
              ".xr-text-repr-fallback {\n",
              "  /* fallback to plain text repr when CSS is not injected (untrusted notebook) */\n",
              "  display: none;\n",
              "}\n",
              "\n",
              ".xr-header {\n",
              "  padding-top: 6px;\n",
              "  padding-bottom: 6px;\n",
              "  margin-bottom: 4px;\n",
              "  border-bottom: solid 1px var(--xr-border-color);\n",
              "}\n",
              "\n",
              ".xr-header > div,\n",
              ".xr-header > ul {\n",
              "  display: inline;\n",
              "  margin-top: 0;\n",
              "  margin-bottom: 0;\n",
              "}\n",
              "\n",
              ".xr-obj-type,\n",
              ".xr-array-name {\n",
              "  margin-left: 2px;\n",
              "  margin-right: 10px;\n",
              "}\n",
              "\n",
              ".xr-obj-type {\n",
              "  color: var(--xr-font-color2);\n",
              "}\n",
              "\n",
              ".xr-sections {\n",
              "  padding-left: 0 !important;\n",
              "  display: grid;\n",
              "  grid-template-columns: 150px auto auto 1fr 0 20px 0 20px;\n",
              "}\n",
              "\n",
              ".xr-section-item {\n",
              "  display: contents;\n",
              "}\n",
              "\n",
              ".xr-section-item input {\n",
              "  display: inline-block;\n",
              "  opacity: 0;\n",
              "  height: 0;\n",
              "}\n",
              "\n",
              ".xr-section-item input + label {\n",
              "  color: var(--xr-disabled-color);\n",
              "}\n",
              "\n",
              ".xr-section-item input:enabled + label {\n",
              "  cursor: pointer;\n",
              "  color: var(--xr-font-color2);\n",
              "}\n",
              "\n",
              ".xr-section-item input:focus + label {\n",
              "  border: 2px solid var(--xr-font-color0);\n",
              "}\n",
              "\n",
              ".xr-section-item input:enabled + label:hover {\n",
              "  color: var(--xr-font-color0);\n",
              "}\n",
              "\n",
              ".xr-section-summary {\n",
              "  grid-column: 1;\n",
              "  color: var(--xr-font-color2);\n",
              "  font-weight: 500;\n",
              "}\n",
              "\n",
              ".xr-section-summary > span {\n",
              "  display: inline-block;\n",
              "  padding-left: 0.5em;\n",
              "}\n",
              "\n",
              ".xr-section-summary-in:disabled + label {\n",
              "  color: var(--xr-font-color2);\n",
              "}\n",
              "\n",
              ".xr-section-summary-in + label:before {\n",
              "  display: inline-block;\n",
              "  content: \"►\";\n",
              "  font-size: 11px;\n",
              "  width: 15px;\n",
              "  text-align: center;\n",
              "}\n",
              "\n",
              ".xr-section-summary-in:disabled + label:before {\n",
              "  color: var(--xr-disabled-color);\n",
              "}\n",
              "\n",
              ".xr-section-summary-in:checked + label:before {\n",
              "  content: \"▼\";\n",
              "}\n",
              "\n",
              ".xr-section-summary-in:checked + label > span {\n",
              "  display: none;\n",
              "}\n",
              "\n",
              ".xr-section-summary,\n",
              ".xr-section-inline-details {\n",
              "  padding-top: 4px;\n",
              "  padding-bottom: 4px;\n",
              "}\n",
              "\n",
              ".xr-section-inline-details {\n",
              "  grid-column: 2 / -1;\n",
              "}\n",
              "\n",
              ".xr-section-details {\n",
              "  display: none;\n",
              "  grid-column: 1 / -1;\n",
              "  margin-bottom: 5px;\n",
              "}\n",
              "\n",
              ".xr-section-summary-in:checked ~ .xr-section-details {\n",
              "  display: contents;\n",
              "}\n",
              "\n",
              ".xr-array-wrap {\n",
              "  grid-column: 1 / -1;\n",
              "  display: grid;\n",
              "  grid-template-columns: 20px auto;\n",
              "}\n",
              "\n",
              ".xr-array-wrap > label {\n",
              "  grid-column: 1;\n",
              "  vertical-align: top;\n",
              "}\n",
              "\n",
              ".xr-preview {\n",
              "  color: var(--xr-font-color3);\n",
              "}\n",
              "\n",
              ".xr-array-preview,\n",
              ".xr-array-data {\n",
              "  padding: 0 5px !important;\n",
              "  grid-column: 2;\n",
              "}\n",
              "\n",
              ".xr-array-data,\n",
              ".xr-array-in:checked ~ .xr-array-preview {\n",
              "  display: none;\n",
              "}\n",
              "\n",
              ".xr-array-in:checked ~ .xr-array-data,\n",
              ".xr-array-preview {\n",
              "  display: inline-block;\n",
              "}\n",
              "\n",
              ".xr-dim-list {\n",
              "  display: inline-block !important;\n",
              "  list-style: none;\n",
              "  padding: 0 !important;\n",
              "  margin: 0;\n",
              "}\n",
              "\n",
              ".xr-dim-list li {\n",
              "  display: inline-block;\n",
              "  padding: 0;\n",
              "  margin: 0;\n",
              "}\n",
              "\n",
              ".xr-dim-list:before {\n",
              "  content: \"(\";\n",
              "}\n",
              "\n",
              ".xr-dim-list:after {\n",
              "  content: \")\";\n",
              "}\n",
              "\n",
              ".xr-dim-list li:not(:last-child):after {\n",
              "  content: \",\";\n",
              "  padding-right: 5px;\n",
              "}\n",
              "\n",
              ".xr-has-index {\n",
              "  font-weight: bold;\n",
              "}\n",
              "\n",
              ".xr-var-list,\n",
              ".xr-var-item {\n",
              "  display: contents;\n",
              "}\n",
              "\n",
              ".xr-var-item > div,\n",
              ".xr-var-item label,\n",
              ".xr-var-item > .xr-var-name span {\n",
              "  background-color: var(--xr-background-color-row-even);\n",
              "  margin-bottom: 0;\n",
              "}\n",
              "\n",
              ".xr-var-item > .xr-var-name:hover span {\n",
              "  padding-right: 5px;\n",
              "}\n",
              "\n",
              ".xr-var-list > li:nth-child(odd) > div,\n",
              ".xr-var-list > li:nth-child(odd) > label,\n",
              ".xr-var-list > li:nth-child(odd) > .xr-var-name span {\n",
              "  background-color: var(--xr-background-color-row-odd);\n",
              "}\n",
              "\n",
              ".xr-var-name {\n",
              "  grid-column: 1;\n",
              "}\n",
              "\n",
              ".xr-var-dims {\n",
              "  grid-column: 2;\n",
              "}\n",
              "\n",
              ".xr-var-dtype {\n",
              "  grid-column: 3;\n",
              "  text-align: right;\n",
              "  color: var(--xr-font-color2);\n",
              "}\n",
              "\n",
              ".xr-var-preview {\n",
              "  grid-column: 4;\n",
              "}\n",
              "\n",
              ".xr-index-preview {\n",
              "  grid-column: 2 / 5;\n",
              "  color: var(--xr-font-color2);\n",
              "}\n",
              "\n",
              ".xr-var-name,\n",
              ".xr-var-dims,\n",
              ".xr-var-dtype,\n",
              ".xr-preview,\n",
              ".xr-attrs dt {\n",
              "  white-space: nowrap;\n",
              "  overflow: hidden;\n",
              "  text-overflow: ellipsis;\n",
              "  padding-right: 10px;\n",
              "}\n",
              "\n",
              ".xr-var-name:hover,\n",
              ".xr-var-dims:hover,\n",
              ".xr-var-dtype:hover,\n",
              ".xr-attrs dt:hover {\n",
              "  overflow: visible;\n",
              "  width: auto;\n",
              "  z-index: 1;\n",
              "}\n",
              "\n",
              ".xr-var-attrs,\n",
              ".xr-var-data,\n",
              ".xr-index-data {\n",
              "  display: none;\n",
              "  background-color: var(--xr-background-color) !important;\n",
              "  padding-bottom: 5px !important;\n",
              "}\n",
              "\n",
              ".xr-var-attrs-in:checked ~ .xr-var-attrs,\n",
              ".xr-var-data-in:checked ~ .xr-var-data,\n",
              ".xr-index-data-in:checked ~ .xr-index-data {\n",
              "  display: block;\n",
              "}\n",
              "\n",
              ".xr-var-data > table {\n",
              "  float: right;\n",
              "}\n",
              "\n",
              ".xr-var-name span,\n",
              ".xr-var-data,\n",
              ".xr-index-name div,\n",
              ".xr-index-data,\n",
              ".xr-attrs {\n",
              "  padding-left: 25px !important;\n",
              "}\n",
              "\n",
              ".xr-attrs,\n",
              ".xr-var-attrs,\n",
              ".xr-var-data,\n",
              ".xr-index-data {\n",
              "  grid-column: 1 / -1;\n",
              "}\n",
              "\n",
              "dl.xr-attrs {\n",
              "  padding: 0;\n",
              "  margin: 0;\n",
              "  display: grid;\n",
              "  grid-template-columns: 125px auto;\n",
              "}\n",
              "\n",
              ".xr-attrs dt,\n",
              ".xr-attrs dd {\n",
              "  padding: 0;\n",
              "  margin: 0;\n",
              "  float: left;\n",
              "  padding-right: 10px;\n",
              "  width: auto;\n",
              "}\n",
              "\n",
              ".xr-attrs dt {\n",
              "  font-weight: normal;\n",
              "  grid-column: 1;\n",
              "}\n",
              "\n",
              ".xr-attrs dt:hover span {\n",
              "  display: inline-block;\n",
              "  background: var(--xr-background-color);\n",
              "  padding-right: 10px;\n",
              "}\n",
              "\n",
              ".xr-attrs dd {\n",
              "  grid-column: 2;\n",
              "  white-space: pre-wrap;\n",
              "  word-break: break-all;\n",
              "}\n",
              "\n",
              ".xr-icon-database,\n",
              ".xr-icon-file-text2,\n",
              ".xr-no-icon {\n",
              "  display: inline-block;\n",
              "  vertical-align: middle;\n",
              "  width: 1em;\n",
              "  height: 1.5em !important;\n",
              "  stroke-width: 0;\n",
              "  stroke: currentColor;\n",
              "  fill: currentColor;\n",
              "}\n",
              "</style><pre class='xr-text-repr-fallback'>&lt;xarray.Dataset&gt; Size: 18MB\n",
              "Dimensions:             (samples: 30000, molecules: 10, wavelength: 52)\n",
              "Coordinates:\n",
              "  * samples             (samples) int64 240kB 0 1 2 3 ... 29997 29998 29999\n",
              "  * molecules           (molecules) &lt;U10 400B &#x27;PH3&#x27; &#x27;P2H2_cis&#x27; ... &#x27;CO&#x27; &#x27;CH4&#x27;\n",
              "  * wavelength          (wavelength) float64 416B 0.55 0.7 0.95 ... 6.814 7.276\n",
              "Data variables:\n",
              "    log_abundance       (samples, molecules) float64 2MB -7.855 ... -7.177\n",
              "    star_temperature    (samples) int64 240kB ...\n",
              "    star_radius         (samples) float64 240kB ...\n",
              "    planet_mass         (samples) float64 240kB ...\n",
              "    planet_radius       (samples) float64 240kB ...\n",
              "    planet_temperature  (samples) float64 240kB ...\n",
              "    planet_distance     (samples) float64 240kB ...\n",
              "    stellar_class       (samples) &lt;U1 120kB ...\n",
              "    planet_class        (samples) &lt;U15 2MB ...\n",
              "    spectra             (samples, wavelength) float64 12MB 0.01328 ... 0.0</pre><div class='xr-wrap' style='display:none'><div class='xr-header'><div class='xr-obj-type'>xarray.Dataset</div></div><ul class='xr-sections'><li class='xr-section-item'><input id='section-4f10e20e-0148-4ea5-bcf9-0b444b4f15e5' class='xr-section-summary-in' type='checkbox' disabled ><label for='section-4f10e20e-0148-4ea5-bcf9-0b444b4f15e5' class='xr-section-summary'  title='Expand/collapse section'>Dimensions:</label><div class='xr-section-inline-details'><ul class='xr-dim-list'><li><span class='xr-has-index'>samples</span>: 30000</li><li><span class='xr-has-index'>molecules</span>: 10</li><li><span class='xr-has-index'>wavelength</span>: 52</li></ul></div><div class='xr-section-details'></div></li><li class='xr-section-item'><input id='section-24d5049a-081d-43ae-b1e4-fa0df6fe7778' class='xr-section-summary-in' type='checkbox'  checked><label for='section-24d5049a-081d-43ae-b1e4-fa0df6fe7778' class='xr-section-summary' >Coordinates: <span>(3)</span></label><div class='xr-section-inline-details'></div><div class='xr-section-details'><ul class='xr-var-list'><li class='xr-var-item'><div class='xr-var-name'><span class='xr-has-index'>samples</span></div><div class='xr-var-dims'>(samples)</div><div class='xr-var-dtype'>int64</div><div class='xr-var-preview xr-preview'>0 1 2 3 ... 29996 29997 29998 29999</div><input id='attrs-29c929ac-8084-4847-95b2-06d21c4d40b8' class='xr-var-attrs-in' type='checkbox' disabled><label for='attrs-29c929ac-8084-4847-95b2-06d21c4d40b8' title='Show/Hide attributes'><svg class='icon xr-icon-file-text2'><use xlink:href='#icon-file-text2'></use></svg></label><input id='data-f6670abc-df28-4140-8405-78c4c6908b1e' class='xr-var-data-in' type='checkbox'><label for='data-f6670abc-df28-4140-8405-78c4c6908b1e' title='Show/Hide data repr'><svg class='icon xr-icon-database'><use xlink:href='#icon-database'></use></svg></label><div class='xr-var-attrs'><dl class='xr-attrs'></dl></div><div class='xr-var-data'><pre>array([    0,     1,     2, ..., 29997, 29998, 29999])</pre></div></li><li class='xr-var-item'><div class='xr-var-name'><span class='xr-has-index'>molecules</span></div><div class='xr-var-dims'>(molecules)</div><div class='xr-var-dtype'>&lt;U10</div><div class='xr-var-preview xr-preview'>&#x27;PH3&#x27; &#x27;P2H2_cis&#x27; ... &#x27;CO&#x27; &#x27;CH4&#x27;</div><input id='attrs-2ae21e42-aa03-44fe-a956-2d59af100c51' class='xr-var-attrs-in' type='checkbox' disabled><label for='attrs-2ae21e42-aa03-44fe-a956-2d59af100c51' title='Show/Hide attributes'><svg class='icon xr-icon-file-text2'><use xlink:href='#icon-file-text2'></use></svg></label><input id='data-2718c008-2e5e-4f2d-bffe-e1e82e8f2d7d' class='xr-var-data-in' type='checkbox'><label for='data-2718c008-2e5e-4f2d-bffe-e1e82e8f2d7d' title='Show/Hide data repr'><svg class='icon xr-icon-database'><use xlink:href='#icon-database'></use></svg></label><div class='xr-var-attrs'><dl class='xr-attrs'></dl></div><div class='xr-var-data'><pre>array([&#x27;PH3&#x27;, &#x27;P2H2_cis&#x27;, &#x27;P2H2_trans&#x27;, &#x27;O2&#x27;, &#x27;NH3&#x27;, &#x27;N2&#x27;, &#x27;H2O&#x27;, &#x27;CO2&#x27;, &#x27;CO&#x27;,\n",
              "       &#x27;CH4&#x27;], dtype=&#x27;&lt;U10&#x27;)</pre></div></li><li class='xr-var-item'><div class='xr-var-name'><span class='xr-has-index'>wavelength</span></div><div class='xr-var-dims'>(wavelength)</div><div class='xr-var-dtype'>float64</div><div class='xr-var-preview xr-preview'>0.55 0.7 0.95 ... 6.381 6.814 7.276</div><input id='attrs-241d99bc-e173-4cf1-a056-c244ba17391d' class='xr-var-attrs-in' type='checkbox' ><label for='attrs-241d99bc-e173-4cf1-a056-c244ba17391d' title='Show/Hide attributes'><svg class='icon xr-icon-file-text2'><use xlink:href='#icon-file-text2'></use></svg></label><input id='data-0476a94a-0f08-4070-9c44-a6645a07d48c' class='xr-var-data-in' type='checkbox'><label for='data-0476a94a-0f08-4070-9c44-a6645a07d48c' title='Show/Hide data repr'><svg class='icon xr-icon-database'><use xlink:href='#icon-database'></use></svg></label><div class='xr-var-attrs'><dl class='xr-attrs'><dt><span>units :</span></dt><dd>µm</dd><dt><span>description :</span></dt><dd>Wavelength grid for Ariel</dd></dl></div><div class='xr-var-data'><pre>array([0.55    , 0.7     , 0.95    , 1.156375, 1.274903, 1.405581, 1.549653,\n",
              "       1.708493, 1.883613, 1.969597, 2.009186, 2.049571, 2.090767, 2.132792,\n",
              "       2.175661, 2.219392, 2.264002, 2.309508, 2.355929, 2.403283, 2.451589,\n",
              "       2.500866, 2.551134, 2.602411, 2.65472 , 2.70808 , 2.762512, 2.818039,\n",
              "       2.874681, 2.932462, 2.991405, 3.051532, 3.112868, 3.175436, 3.239263,\n",
              "       3.304372, 3.37079 , 3.438543, 3.507657, 3.578161, 3.650082, 3.723449,\n",
              "       4.032167, 4.305458, 4.597272, 4.908865, 5.241577, 5.59684 , 5.976181,\n",
              "       6.381233, 6.813739, 7.275559])</pre></div></li></ul></div></li><li class='xr-section-item'><input id='section-acb0c6d2-9412-4e50-af5f-aa9945475d5d' class='xr-section-summary-in' type='checkbox'  checked><label for='section-acb0c6d2-9412-4e50-af5f-aa9945475d5d' class='xr-section-summary' >Data variables: <span>(10)</span></label><div class='xr-section-inline-details'></div><div class='xr-section-details'><ul class='xr-var-list'><li class='xr-var-item'><div class='xr-var-name'><span>log_abundance</span></div><div class='xr-var-dims'>(samples, molecules)</div><div class='xr-var-dtype'>float64</div><div class='xr-var-preview xr-preview'>-7.855 -8.369 ... -13.52 -7.177</div><input id='attrs-095fc04c-ab6e-48b1-9f0a-f7a2a1997cfb' class='xr-var-attrs-in' type='checkbox' ><label for='attrs-095fc04c-ab6e-48b1-9f0a-f7a2a1997cfb' title='Show/Hide attributes'><svg class='icon xr-icon-file-text2'><use xlink:href='#icon-file-text2'></use></svg></label><input id='data-3c459fb7-7e78-4dd4-8583-97e4608968f1' class='xr-var-data-in' type='checkbox'><label for='data-3c459fb7-7e78-4dd4-8583-97e4608968f1' title='Show/Hide data repr'><svg class='icon xr-icon-database'><use xlink:href='#icon-database'></use></svg></label><div class='xr-var-attrs'><dl class='xr-attrs'><dt><span>units :</span></dt><dd>log10(mol/mol)</dd></dl></div><div class='xr-var-data'><pre>array([[ -7.855192,  -8.369201,  -6.195995, ...,  -4.033622, -11.040412,\n",
              "         -4.176996],\n",
              "       [ -4.53208 ,  -9.286115,  -7.42491 , ...,  -5.075647,  -9.496404,\n",
              "         -3.115264],\n",
              "       [ -9.502054,  -5.877911,  -7.484287, ...,  -5.527372, -12.538719,\n",
              "         -5.126225],\n",
              "       ...,\n",
              "       [ -6.579723, -13.973042, -10.422781, ...,  -6.769761,  -4.147491,\n",
              "         -8.166818],\n",
              "       [ -9.077801, -13.640004,  -7.998736, ...,  -2.954186, -11.435734,\n",
              "        -10.625921],\n",
              "       [ -4.248497, -10.980813,  -6.320607, ...,  -4.006286, -13.521938,\n",
              "         -7.177234]])</pre></div></li><li class='xr-var-item'><div class='xr-var-name'><span>star_temperature</span></div><div class='xr-var-dims'>(samples)</div><div class='xr-var-dtype'>int64</div><div class='xr-var-preview xr-preview'>...</div><input id='attrs-6698c11b-c430-45a9-9853-8ced0a8fd939' class='xr-var-attrs-in' type='checkbox' ><label for='attrs-6698c11b-c430-45a9-9853-8ced0a8fd939' title='Show/Hide attributes'><svg class='icon xr-icon-file-text2'><use xlink:href='#icon-file-text2'></use></svg></label><input id='data-348e556c-d177-43db-821e-9fb0d4b08297' class='xr-var-data-in' type='checkbox'><label for='data-348e556c-d177-43db-821e-9fb0d4b08297' title='Show/Hide data repr'><svg class='icon xr-icon-database'><use xlink:href='#icon-database'></use></svg></label><div class='xr-var-attrs'><dl class='xr-attrs'><dt><span>units :</span></dt><dd>K</dd></dl></div><div class='xr-var-data'><pre>[30000 values with dtype=int64]</pre></div></li><li class='xr-var-item'><div class='xr-var-name'><span>star_radius</span></div><div class='xr-var-dims'>(samples)</div><div class='xr-var-dtype'>float64</div><div class='xr-var-preview xr-preview'>...</div><input id='attrs-1fcc9f58-a0ab-4f1b-b7af-6ffca9de3b61' class='xr-var-attrs-in' type='checkbox' ><label for='attrs-1fcc9f58-a0ab-4f1b-b7af-6ffca9de3b61' title='Show/Hide attributes'><svg class='icon xr-icon-file-text2'><use xlink:href='#icon-file-text2'></use></svg></label><input id='data-ce1f5818-78f3-4995-96d3-c5ebbfdfe958' class='xr-var-data-in' type='checkbox'><label for='data-ce1f5818-78f3-4995-96d3-c5ebbfdfe958' title='Show/Hide data repr'><svg class='icon xr-icon-database'><use xlink:href='#icon-database'></use></svg></label><div class='xr-var-attrs'><dl class='xr-attrs'><dt><span>units :</span></dt><dd>R_sun</dd></dl></div><div class='xr-var-data'><pre>[30000 values with dtype=float64]</pre></div></li><li class='xr-var-item'><div class='xr-var-name'><span>planet_mass</span></div><div class='xr-var-dims'>(samples)</div><div class='xr-var-dtype'>float64</div><div class='xr-var-preview xr-preview'>...</div><input id='attrs-8f7a7741-e5b1-40a4-be53-f02b61114f1a' class='xr-var-attrs-in' type='checkbox' ><label for='attrs-8f7a7741-e5b1-40a4-be53-f02b61114f1a' title='Show/Hide attributes'><svg class='icon xr-icon-file-text2'><use xlink:href='#icon-file-text2'></use></svg></label><input id='data-466bbe53-35cd-436e-bcb0-cc755f469136' class='xr-var-data-in' type='checkbox'><label for='data-466bbe53-35cd-436e-bcb0-cc755f469136' title='Show/Hide data repr'><svg class='icon xr-icon-database'><use xlink:href='#icon-database'></use></svg></label><div class='xr-var-attrs'><dl class='xr-attrs'><dt><span>units :</span></dt><dd>M_jup</dd></dl></div><div class='xr-var-data'><pre>[30000 values with dtype=float64]</pre></div></li><li class='xr-var-item'><div class='xr-var-name'><span>planet_radius</span></div><div class='xr-var-dims'>(samples)</div><div class='xr-var-dtype'>float64</div><div class='xr-var-preview xr-preview'>...</div><input id='attrs-d5e7378b-d242-4592-8f1f-7ff6dd6e2308' class='xr-var-attrs-in' type='checkbox' ><label for='attrs-d5e7378b-d242-4592-8f1f-7ff6dd6e2308' title='Show/Hide attributes'><svg class='icon xr-icon-file-text2'><use xlink:href='#icon-file-text2'></use></svg></label><input id='data-7603fb1c-e5f4-438d-9d6c-312a8d4cf47a' class='xr-var-data-in' type='checkbox'><label for='data-7603fb1c-e5f4-438d-9d6c-312a8d4cf47a' title='Show/Hide data repr'><svg class='icon xr-icon-database'><use xlink:href='#icon-database'></use></svg></label><div class='xr-var-attrs'><dl class='xr-attrs'><dt><span>units :</span></dt><dd>R_jup</dd></dl></div><div class='xr-var-data'><pre>[30000 values with dtype=float64]</pre></div></li><li class='xr-var-item'><div class='xr-var-name'><span>planet_temperature</span></div><div class='xr-var-dims'>(samples)</div><div class='xr-var-dtype'>float64</div><div class='xr-var-preview xr-preview'>...</div><input id='attrs-a973d236-47f6-4fe1-840d-ccbd0060bcaa' class='xr-var-attrs-in' type='checkbox' ><label for='attrs-a973d236-47f6-4fe1-840d-ccbd0060bcaa' title='Show/Hide attributes'><svg class='icon xr-icon-file-text2'><use xlink:href='#icon-file-text2'></use></svg></label><input id='data-40de568b-2411-40fb-8b0a-2de4a37f5499' class='xr-var-data-in' type='checkbox'><label for='data-40de568b-2411-40fb-8b0a-2de4a37f5499' title='Show/Hide data repr'><svg class='icon xr-icon-database'><use xlink:href='#icon-database'></use></svg></label><div class='xr-var-attrs'><dl class='xr-attrs'><dt><span>units :</span></dt><dd>K</dd></dl></div><div class='xr-var-data'><pre>[30000 values with dtype=float64]</pre></div></li><li class='xr-var-item'><div class='xr-var-name'><span>planet_distance</span></div><div class='xr-var-dims'>(samples)</div><div class='xr-var-dtype'>float64</div><div class='xr-var-preview xr-preview'>...</div><input id='attrs-ee791f44-7c36-4b34-830e-9b4d7cebaa6d' class='xr-var-attrs-in' type='checkbox' disabled><label for='attrs-ee791f44-7c36-4b34-830e-9b4d7cebaa6d' title='Show/Hide attributes'><svg class='icon xr-icon-file-text2'><use xlink:href='#icon-file-text2'></use></svg></label><input id='data-3e1a9fb8-e34c-4c7a-b6ba-31ef53a95594' class='xr-var-data-in' type='checkbox'><label for='data-3e1a9fb8-e34c-4c7a-b6ba-31ef53a95594' title='Show/Hide data repr'><svg class='icon xr-icon-database'><use xlink:href='#icon-database'></use></svg></label><div class='xr-var-attrs'><dl class='xr-attrs'></dl></div><div class='xr-var-data'><pre>[30000 values with dtype=float64]</pre></div></li><li class='xr-var-item'><div class='xr-var-name'><span>stellar_class</span></div><div class='xr-var-dims'>(samples)</div><div class='xr-var-dtype'>&lt;U1</div><div class='xr-var-preview xr-preview'>...</div><input id='attrs-c67b5ac8-c3f3-4c48-ae0d-d60407c32134' class='xr-var-attrs-in' type='checkbox' disabled><label for='attrs-c67b5ac8-c3f3-4c48-ae0d-d60407c32134' title='Show/Hide attributes'><svg class='icon xr-icon-file-text2'><use xlink:href='#icon-file-text2'></use></svg></label><input id='data-a3896c24-f088-4eca-be16-6f1c5602a601' class='xr-var-data-in' type='checkbox'><label for='data-a3896c24-f088-4eca-be16-6f1c5602a601' title='Show/Hide data repr'><svg class='icon xr-icon-database'><use xlink:href='#icon-database'></use></svg></label><div class='xr-var-attrs'><dl class='xr-attrs'></dl></div><div class='xr-var-data'><pre>[30000 values with dtype=&lt;U1]</pre></div></li><li class='xr-var-item'><div class='xr-var-name'><span>planet_class</span></div><div class='xr-var-dims'>(samples)</div><div class='xr-var-dtype'>&lt;U15</div><div class='xr-var-preview xr-preview'>...</div><input id='attrs-bb78ce86-39d3-476d-9db8-fd3b19bf4385' class='xr-var-attrs-in' type='checkbox' disabled><label for='attrs-bb78ce86-39d3-476d-9db8-fd3b19bf4385' title='Show/Hide attributes'><svg class='icon xr-icon-file-text2'><use xlink:href='#icon-file-text2'></use></svg></label><input id='data-e69f9235-82c5-447c-8baa-04765b6a373e' class='xr-var-data-in' type='checkbox'><label for='data-e69f9235-82c5-447c-8baa-04765b6a373e' title='Show/Hide data repr'><svg class='icon xr-icon-database'><use xlink:href='#icon-database'></use></svg></label><div class='xr-var-attrs'><dl class='xr-attrs'></dl></div><div class='xr-var-data'><pre>[30000 values with dtype=&lt;U15]</pre></div></li><li class='xr-var-item'><div class='xr-var-name'><span>spectra</span></div><div class='xr-var-dims'>(samples, wavelength)</div><div class='xr-var-dtype'>float64</div><div class='xr-var-preview xr-preview'>0.01328 0.01317 0.01319 ... 0.0 0.0</div><input id='attrs-93c8e526-4c39-4023-85af-27d92dc54c14' class='xr-var-attrs-in' type='checkbox' ><label for='attrs-93c8e526-4c39-4023-85af-27d92dc54c14' title='Show/Hide attributes'><svg class='icon xr-icon-file-text2'><use xlink:href='#icon-file-text2'></use></svg></label><input id='data-d3250a6d-43c0-47f2-b684-beecad70e3b4' class='xr-var-data-in' type='checkbox'><label for='data-d3250a6d-43c0-47f2-b684-beecad70e3b4' title='Show/Hide data repr'><svg class='icon xr-icon-database'><use xlink:href='#icon-database'></use></svg></label><div class='xr-var-attrs'><dl class='xr-attrs'><dt><span>units :</span></dt><dd>Intensity</dd><dt><span>description :</span></dt><dd>Simulated spectra for candidate planets</dd></dl></div><div class='xr-var-data'><pre>array([[0.013276, 0.01317 , 0.013194, ..., 0.013867, 0.013898, 0.014147],\n",
              "       [0.008604, 0.008672, 0.009063, ..., 0.010011, 0.010208, 0.010248],\n",
              "       [0.025602, 0.025585, 0.025596, ..., 0.025708, 0.025731, 0.025739],\n",
              "       ...,\n",
              "       [0.      , 0.      , 0.      , ..., 0.      , 0.      , 0.      ],\n",
              "       [0.      , 0.      , 0.      , ..., 0.      , 0.      , 0.      ],\n",
              "       [0.      , 0.      , 0.      , ..., 0.      , 0.      , 0.      ]])</pre></div></li></ul></div></li><li class='xr-section-item'><input id='section-b71e6eb9-ad7a-415e-bd25-218bcfd2de4d' class='xr-section-summary-in' type='checkbox'  ><label for='section-b71e6eb9-ad7a-415e-bd25-218bcfd2de4d' class='xr-section-summary' >Indexes: <span>(3)</span></label><div class='xr-section-inline-details'></div><div class='xr-section-details'><ul class='xr-var-list'><li class='xr-var-item'><div class='xr-index-name'><div>samples</div></div><div class='xr-index-preview'>PandasIndex</div><input type='checkbox' disabled/><label></label><input id='index-2fb38aec-7e0b-4a9e-a744-19160d065784' class='xr-index-data-in' type='checkbox'/><label for='index-2fb38aec-7e0b-4a9e-a744-19160d065784' title='Show/Hide index repr'><svg class='icon xr-icon-database'><use xlink:href='#icon-database'></use></svg></label><div class='xr-index-data'><pre>PandasIndex(Index([    0,     1,     2,     3,     4,     5,     6,     7,     8,     9,\n",
              "       ...\n",
              "       29990, 29991, 29992, 29993, 29994, 29995, 29996, 29997, 29998, 29999],\n",
              "      dtype=&#x27;int64&#x27;, name=&#x27;samples&#x27;, length=30000))</pre></div></li><li class='xr-var-item'><div class='xr-index-name'><div>molecules</div></div><div class='xr-index-preview'>PandasIndex</div><input type='checkbox' disabled/><label></label><input id='index-340cb334-995d-45f4-87d3-6587c1c813ad' class='xr-index-data-in' type='checkbox'/><label for='index-340cb334-995d-45f4-87d3-6587c1c813ad' title='Show/Hide index repr'><svg class='icon xr-icon-database'><use xlink:href='#icon-database'></use></svg></label><div class='xr-index-data'><pre>PandasIndex(Index([&#x27;PH3&#x27;, &#x27;P2H2_cis&#x27;, &#x27;P2H2_trans&#x27;, &#x27;O2&#x27;, &#x27;NH3&#x27;, &#x27;N2&#x27;, &#x27;H2O&#x27;, &#x27;CO2&#x27;, &#x27;CO&#x27;,\n",
              "       &#x27;CH4&#x27;],\n",
              "      dtype=&#x27;object&#x27;, name=&#x27;molecules&#x27;))</pre></div></li><li class='xr-var-item'><div class='xr-index-name'><div>wavelength</div></div><div class='xr-index-preview'>PandasIndex</div><input type='checkbox' disabled/><label></label><input id='index-7083241b-c924-49f5-8865-174f3128bce6' class='xr-index-data-in' type='checkbox'/><label for='index-7083241b-c924-49f5-8865-174f3128bce6' title='Show/Hide index repr'><svg class='icon xr-icon-database'><use xlink:href='#icon-database'></use></svg></label><div class='xr-index-data'><pre>PandasIndex(Index([ 0.549999999999945,   0.70000000000021, 0.9500000000003325,\n",
              "       1.1563750000006046, 1.2749034374998558, 1.4055810398435014,\n",
              "       1.5496530964281572, 1.7084925388120566, 1.8836130240414994,\n",
              "       1.9695974999986572, 2.0091864097496206, 2.0495710565873013,\n",
              "       2.0907674348235723, 2.1327918602632483,  2.175660976653478,\n",
              "        2.219391762282997,  2.264001536706257, 2.3095079675948957,\n",
              "        2.355929077741707,  2.403283252203793, 2.4515892455778054,\n",
              "       2.5008661894096913,  2.551133599819959,  2.602411385173843,\n",
              "        2.654719854017368,  2.708079723085059, 2.7625121255201637,\n",
              "         2.81803861924324,   2.87468119548812, 2.9324622875131663,\n",
              "        2.991404779497347,  3.051532015567475,  3.112867809077843,\n",
              "        3.175436452041946, 3.2392627247258905,  3.304371905493277,\n",
              "        3.370789780793465, 3.4385426553826357, 3.5076573627622483,\n",
              "       3.5781612757477723,  3.650082317397024,  3.723448971966686,\n",
              "        4.032166666662652,  4.305457962955359,  4.597272336005235,\n",
              "        4.908865238771176,  5.241577216082706,  5.596839671845746,\n",
              "        5.976181027371031, 6.3812332970011605,  6.813739109358195,\n",
              "         7.27555920456626],\n",
              "      dtype=&#x27;float64&#x27;, name=&#x27;wavelength&#x27;))</pre></div></li></ul></div></li><li class='xr-section-item'><input id='section-318232c5-ebd9-4794-a382-bfa983adc15f' class='xr-section-summary-in' type='checkbox' disabled ><label for='section-318232c5-ebd9-4794-a382-bfa983adc15f' class='xr-section-summary'  title='Expand/collapse section'>Attributes: <span>(0)</span></label><div class='xr-section-inline-details'></div><div class='xr-section-details'><dl class='xr-attrs'></dl></div></li></ul></div></div>"
            ]
          },
          "metadata": {},
          "execution_count": 20
        }
      ]
    },
    {
      "cell_type": "markdown",
      "metadata": {
        "id": "9vtIPMkY-823"
      },
      "source": [
        "## 📈 Plot some Spectra\n",
        "\n",
        "Lets quickly plot some of the spectra to check that it looks as we were expecting!\n",
        "\n",
        "We start by plotting just one value..."
      ]
    },
    {
      "cell_type": "code",
      "execution_count": 22,
      "metadata": {
        "id": "NmxpksKd-823",
        "outputId": "13b4dd37-2d90-46b6-cbbb-d1c2fa0de091",
        "colab": {
          "base_uri": "https://localhost:8080/",
          "height": 472
        }
      },
      "outputs": [
        {
          "output_type": "display_data",
          "data": {
            "text/plain": [
              "<Figure size 640x480 with 1 Axes>"
            ],
            "image/png": "[encoded data removed]"
          },
          "metadata": {}
        }
      ],
      "source": [
        "plt.plot(ds['wavelength'], spectra_np[0], color='black') # Plot the first spectrum, the 0 here means the first, so we can change that to 1 to plot the second, or 2 for the 3rd etc\n",
        "\n",
        "def plot_extras(): # Define a little function so that we don't have to repeat this code to mkae our plots look nicer\n",
        "    plt.xscale('log')\n",
        "    plt.xticks([1, 2, 3, 5, 7], ['1µm', '2µm', '3µm', '5µm', '7µm'])\n",
        "    plt.xlabel('Wavelength (µm)')\n",
        "    plt.ylabel('Tranit Depth (%)')\n",
        "\n",
        "    plt.title('Simulated Exoplanet Transmission Spectra')\n",
        "plot_extras() # Call the function we just defined"
      ]
    },
    {
      "cell_type": "markdown",
      "metadata": {
        "id": "XhZwMRr8-824"
      },
      "source": [
        "If we plot more than one spectra though we can begin to see that they are not very similar at all. This might not be the best for machine learning purposes."
      ]
    },
    {
      "cell_type": "code",
      "execution_count": 13,
      "metadata": {
        "id": "HzcRS7fi-824",
        "outputId": "635a6aa5-5188-408a-95c9-c9d2a7dfb7d1",
        "colab": {
          "base_uri": "https://localhost:8080/",
          "height": 211
        }
      },
      "outputs": [
        {
          "output_type": "error",
          "ename": "NameError",
          "evalue": "name 'spectra' is not defined",
          "traceback": [
            "\u001b[0;31m---------------------------------------------------------------------------\u001b[0m",
            "\u001b[0;31mNameError\u001b[0m                                 Traceback (most recent call last)",
            "\u001b[0;32m<ipython-input-13-42e9c5fa7a71>\u001b[0m in \u001b[0;36m<cell line: 0>\u001b[0;34m()\u001b[0m\n\u001b[1;32m      1\u001b[0m \u001b[0;32mfor\u001b[0m \u001b[0mi\u001b[0m \u001b[0;32min\u001b[0m \u001b[0mrange\u001b[0m\u001b[0;34m(\u001b[0m\u001b[0;36m1\u001b[0m\u001b[0;34m,\u001b[0m \u001b[0;36m35\u001b[0m\u001b[0;34m)\u001b[0m\u001b[0;34m:\u001b[0m \u001b[0;31m# Loop through the first 35 spectra\u001b[0m\u001b[0;34m\u001b[0m\u001b[0;34m\u001b[0m\u001b[0m\n\u001b[0;32m----> 2\u001b[0;31m     \u001b[0mplt\u001b[0m\u001b[0;34m.\u001b[0m\u001b[0mplot\u001b[0m\u001b[0;34m(\u001b[0m\u001b[0mds\u001b[0m\u001b[0;34m[\u001b[0m\u001b[0;34m'wavelength'\u001b[0m\u001b[0;34m]\u001b[0m\u001b[0;34m,\u001b[0m \u001b[0mspectra\u001b[0m\u001b[0;34m[\u001b[0m\u001b[0mi\u001b[0m\u001b[0;34m]\u001b[0m\u001b[0;34m,\u001b[0m \u001b[0malpha\u001b[0m\u001b[0;34m=\u001b[0m\u001b[0;36m0.5\u001b[0m\u001b[0;34m)\u001b[0m \u001b[0;31m# Plot the spectra with a different colour, and a little transparency, this is what alpha=0.5 does. alpha=1 is fully opaque, and alpha=0 is fully transparent\u001b[0m\u001b[0;34m\u001b[0m\u001b[0;34m\u001b[0m\u001b[0m\n\u001b[0m\u001b[1;32m      3\u001b[0m \u001b[0;34m\u001b[0m\u001b[0m\n\u001b[1;32m      4\u001b[0m \u001b[0mplot_extras\u001b[0m\u001b[0;34m(\u001b[0m\u001b[0;34m)\u001b[0m\u001b[0;34m\u001b[0m\u001b[0;34m\u001b[0m\u001b[0m\n",
            "\u001b[0;31mNameError\u001b[0m: name 'spectra' is not defined"
          ]
        }
      ],
      "source": [
        "for i in range(1, 35): # Loop through the first 35 spectra\n",
        "    plt.plot(ds['wavelength'], spectra[i], alpha=0.5) # Plot the spectra with a different colour, and a little transparency, this is what alpha=0.5 does. alpha=1 is fully opaque, and alpha=0 is fully transparent\n",
        "\n",
        "plot_extras()"
      ]
    },
    {
      "cell_type": "code",
      "execution_count": null,
      "metadata": {
        "id": "icI0nrAs-825",
        "outputId": "058ff364-c27e-4d5b-b9bb-296315d57e0e",
        "colab": {
          "base_uri": "https://localhost:8080/"
        }
      },
      "outputs": [
        {
          "output_type": "stream",
          "name": "stdout",
          "text": [
            "['PH3' 'P2H2_cis' 'P2H2_trans' 'O2' 'NH3' 'N2' 'H2O' 'CO2' 'CO' 'CH4']\n",
            "(30000, 10)\n"
          ]
        }
      ],
      "source": [
        "mol_header = ds['molecules'].values\n",
        "chemical_abundances = ds['log_abundance'].values\n",
        "\n",
        "print(mol_header)\n",
        "print(chemical_abundances.shape)"
      ]
    },
    {
      "cell_type": "markdown",
      "metadata": {
        "id": "64rThghm-825"
      },
      "source": [
        "We don't want to train a model that predicts all of these gasses at once, so we just choose the one/ones that we are interested in, for example here $H_2O$ and $CH_4$"
      ]
    },
    {
      "cell_type": "code",
      "execution_count": null,
      "metadata": {
        "id": "wuRUJoZR-825",
        "outputId": "0326846d-14a0-45ba-9850-7ba610e096b5",
        "colab": {
          "base_uri": "https://localhost:8080/"
        }
      },
      "outputs": [
        {
          "output_type": "execute_result",
          "data": {
            "text/plain": [
              "(30000, 2)"
            ]
          },
          "metadata": {},
          "execution_count": 10
        }
      ],
      "source": [
        "included_molecules = ['H2O', 'CH4']\n",
        "index = np.isin(mol_header, included_molecules)\n",
        "\n",
        "labels = chemical_abundances[:, index]\n",
        "labels.shape"
      ]
    },
    {
      "cell_type": "markdown",
      "metadata": {
        "id": "ivb4HDXa-825"
      },
      "source": [
        "## 📝 Test and Train Data!\n",
        "\n",
        "While we could then train our model on all the data, because we are looking to validate the performance of the models, we hold back some of the data that the model has not seen before so that we can evaluate its performance! We will use 20\\% of the data for testing, and train on the rest"
      ]
    },
    {
      "cell_type": "code",
      "execution_count": null,
      "metadata": {
        "id": "EFMYDRPy-826",
        "outputId": "0286c0f1-1cc5-4b59-d308-f258cdd55be4",
        "colab": {
          "base_uri": "https://localhost:8080/"
        }
      },
      "outputs": [
        {
          "output_type": "stream",
          "name": "stdout",
          "text": [
            "\n",
            "train_spectra: (24000, 52)\n",
            "train_labels: (24000, 2)\n",
            "\n",
            "test_spectra: (6000, 52)\n",
            "test_labels: (6000, 2)\n",
            "\n"
          ]
        }
      ],
      "source": [
        "# split train into train and test - we will use the test data to evaluate the model\n",
        "\n",
        "tts = [0.8, 0.2] # 80% train, 20% test\n",
        "seed = 42 # random seed for reproducibility\n",
        "train_spectra, test_spectra, train_labels, test_labels = train_test_split(\n",
        "    spectra, # here we input the regular spectra, but we should probably use the normalised spectra\n",
        "    labels,\n",
        "    test_size=tts[1],\n",
        "    random_state=seed)\n",
        "\n",
        "# print shapes in table\n",
        "print(f\"\"\"\n",
        "train_spectra: {train_spectra.shape}\n",
        "train_labels: {train_labels.shape}\n",
        "\n",
        "test_spectra: {test_spectra.shape}\n",
        "test_labels: {test_labels.shape}\n",
        "\"\"\")"
      ]
    },
    {
      "cell_type": "markdown",
      "metadata": {
        "id": "FAZkhE1W-826"
      },
      "source": [
        "---\n",
        "\n",
        "## 🤖 Model:\n",
        "\n",
        "Define your best model from previous sessions here! This is just an example"
      ]
    },
    {
      "cell_type": "code",
      "execution_count": null,
      "metadata": {
        "id": "w5X2DFpc-826",
        "outputId": "85376d5b-fede-4eab-9de3-d7da4c104843",
        "colab": {
          "base_uri": "https://localhost:8080/",
          "height": 111
        }
      },
      "outputs": [
        {
          "output_type": "error",
          "ename": "SyntaxError",
          "evalue": "invalid syntax (<ipython-input-12-68720d7bafdb>, line 5)",
          "traceback": [
            "\u001b[0;36m  File \u001b[0;32m\"<ipython-input-12-68720d7bafdb>\"\u001b[0;36m, line \u001b[0;32m5\u001b[0m\n\u001b[0;31m    self.fc1 = # Your code here...\u001b[0m\n\u001b[0m               ^\u001b[0m\n\u001b[0;31mSyntaxError\u001b[0m\u001b[0;31m:\u001b[0m invalid syntax\n"
          ]
        }
      ],
      "source": [
        "class model_A(nn.Module):\n",
        "    def __init__(self):\n",
        "        super(model_A, self).__init__()\n",
        "\n",
        "        self.fc1 = # Your code here...\n",
        "\n",
        "    def forward(self, x):\n",
        "        x = torch.relu(self.fc1(x))\n",
        "        x = # Your code here...\n",
        "        return x"
      ]
    },
    {
      "cell_type": "code",
      "execution_count": null,
      "metadata": {
        "id": "FZBxSOvu-826"
      },
      "outputs": [],
      "source": [
        "model = # Your code here...\n",
        "lr = # Your code here...\n",
        "batch_size = # Your code here...\n",
        "\n",
        "# create a loss function\n",
        "criterion = nn.MSELoss()\n",
        "\n",
        "\n",
        "# use GPU if available for faster training times\n",
        "if torch.cuda.is_available():\n",
        "    device = torch.device(\"cuda\")\n",
        "    print('Using GPU')\n",
        "elif torch.mps.is_available():\n",
        "    device = torch.device(\"mps\")\n",
        "    print('Using MPS')\n",
        "else:\n",
        "    device = torch.device(\"cpu\")\n",
        "    print('Using CPU')\n",
        "\n",
        "model.to(device)\n",
        "test_spectra = torch.Tensor(test_spectra).to(device)\n",
        "test_labels = torch.Tensor(test_labels).to(device)\n",
        "\n",
        "optimizer = optim.Adam(model.parameters(), lr=lr)\n",
        "train_dataset = TensorDataset(torch.Tensor(train_spectra).to(device), torch.Tensor(train_labels).to(device))\n",
        "train_loader = DataLoader(train_dataset, batch_size=batch_size, shuffle=True)"
      ]
    },
    {
      "cell_type": "code",
      "execution_count": null,
      "metadata": {
        "id": "iU85J_Vv-827"
      },
      "outputs": [],
      "source": [
        "batch_losses = []\n",
        "epoch_train_losses = []\n",
        "epoch_test_losses = []\n",
        "\n",
        "# train the model\n",
        "model.train()\n",
        "for epoch in range(50): # Keep the batch size low so we can train this quickly for today...\n",
        "    for i, data in enumerate(train_loader):\n",
        "        inputs, labels = data\n",
        "        optimizer.zero_grad()\n",
        "        outputs = model(inputs)\n",
        "        loss = criterion(outputs, labels)\n",
        "        loss.backward()\n",
        "        optimizer.step()\n",
        "\n",
        "        batch_losses.append(loss.item())\n",
        "\n",
        "    with torch.no_grad():\n",
        "        test_outputs = model(torch.Tensor(test_spectra))\n",
        "        test_loss = criterion(test_outputs, test_labels)\n",
        "\n",
        "    epoch_test_losses.append(test_loss.item())\n",
        "    epoch_train_losses.append(np.mean(batch_losses))\n",
        "    batch_losses = []\n",
        "\n",
        "    if epoch % 20 == 0:\n",
        "        print(f'epoch {epoch}, train loss {epoch_train_losses[-1]}, test loss {test_loss.item()}')"
      ]
    },
    {
      "cell_type": "markdown",
      "metadata": {
        "id": "JUn-bkgY-827"
      },
      "source": [
        "---\n",
        "\n",
        "## ✅ Validation:\n",
        "\n",
        "We will use our test data that the model has never seen in order to test how accurate the model is with it's predictions. Then we can create some plots the same as last time..."
      ]
    },
    {
      "cell_type": "code",
      "execution_count": null,
      "metadata": {
        "id": "UWd6JneI-828"
      },
      "outputs": [],
      "source": [
        "# generate the test set predictions\n",
        "with torch.no_grad():\n",
        "    test_outputs = model(test_spectra)\n",
        "\n",
        "# plot the final predictions\n",
        "for i in range(labels.shape[1]):\n",
        "    plt.figure(figsize=(5, 5))\n",
        "    plt.plot(test_labels.cpu().numpy()[:, i], test_outputs.cpu().numpy()[:, i],'kx', label=mol_header[i], alpha=0.5)\n",
        "\n",
        "    plt.plot([test_labels.cpu().numpy()[:, i].min(),\n",
        "            test_labels.cpu().numpy()[:, i].max()],\n",
        "            [test_labels.cpu().numpy()[:, i].min(),\n",
        "            test_labels.cpu().numpy()[:, i].max()], 'r--', lw=2)\n",
        "\n",
        "    plt.xlabel(f'True Abundance of {mol_header[index][i]}')\n",
        "    plt.ylabel(f'Predicted Abundance of {mol_header[index][i]}')\n"
      ]
    },
    {
      "cell_type": "markdown",
      "metadata": {
        "id": "FRZqjusN-828"
      },
      "source": [
        "Does this look good? Is the model performing as expected? If not, consider, is the normalisation working as anticipated? Are there different ways that you could normalise the data?"
      ]
    },
    {
      "cell_type": "markdown",
      "metadata": {
        "id": "Lb1aaUFG-828"
      },
      "source": [
        "We can print a quick overview of what we have achieved here"
      ]
    },
    {
      "cell_type": "code",
      "execution_count": null,
      "metadata": {
        "id": "dljR35jK-829"
      },
      "outputs": [],
      "source": [
        "print(f'best test loss: {min(epoch_test_losses)}')\n",
        "print('---')\n",
        "print(f'model architecture: {model}')\n",
        "print(f'learning rate: {lr}')\n",
        "print(f'batch size: {batch_size}')"
      ]
    },
    {
      "cell_type": "markdown",
      "metadata": {
        "id": "T6NkLB8W-829"
      },
      "source": [
        "---\n",
        "\n",
        "# 🌱 **Data Augmentation**\n",
        "Could these results be better? If we had more data...? Augmentation is the process of artificially increasing the size of your dataset by creating modified versions of existing data.\n",
        "\n",
        "### Why Augment?\n",
        "- 📈 **Boosts Dataset Size**: Helps when data is limited.\n",
        "- 🔄 **Introduces Variability**: Makes the model more robust to unseen data.\n",
        "- 🏆 **Reduces Overfitting**: Prevents the model from memorizing the training data.\n",
        "\n",
        "### Examples of Augmentation in Regression:\n",
        "- **Noise Injection**: Add a small amount of random noise to input features.\n",
        "- **Synthetic Data Creation**: Generate new samples using domain knowledge or interpolation between existing samples.\n",
        "\n",
        "---\n"
      ]
    },
    {
      "cell_type": "markdown",
      "metadata": {
        "id": "QVbiCu4r-829"
      },
      "source": [
        "Can we double our dataset size by creating noisy version of the data? We know how to create random values like this:"
      ]
    },
    {
      "cell_type": "code",
      "execution_count": null,
      "metadata": {
        "id": "W2gHJAFk-82-"
      },
      "outputs": [],
      "source": [
        "random_spectra = np.random.rand(52)\n",
        "\n",
        "plt.plot(ds['wavelength'], random_spectra, color='black')\n",
        "plot_extras()"
      ]
    },
    {
      "cell_type": "markdown",
      "metadata": {
        "id": "91wbUBBH-82-"
      },
      "source": [
        "Obviously this on it's own is meaningless, but is there a way to combine this with the existing data, then we could use it for training....."
      ]
    },
    {
      "cell_type": "code",
      "execution_count": null,
      "metadata": {
        "id": "ebiv_V4B-82-"
      },
      "outputs": [],
      "source": [
        "# Your code here..."
      ]
    }
  ],
  "metadata": {
    "kernelspec": {
      "display_name": "Python 3",
      "name": "python3"
    },
    "language_info": {
      "codemirror_mode": {
        "name": "ipython",
        "version": 3
      },
      "file_extension": ".py",
      "mimetype": "text/x-python",
      "name": "python",
      "nbconvert_exporter": "python",
      "pygments_lexer": "ipython3",
      "version": "3.12.9"
    },
    "colab": {
      "provenance": [],
      "gpuType": "T4"
    },
    "accelerator": "GPU"
  },
  "nbformat": 4,
  "nbformat_minor": 0
}