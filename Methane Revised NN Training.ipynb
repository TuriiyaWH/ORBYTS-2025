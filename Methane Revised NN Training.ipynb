{
  "cells": [
    {
      "cell_type": "markdown",
      "source": [
        "### **IMPORTS & DOWNLOADS**\n"
      ],
      "metadata": {
        "id": "Qj9W1meps3hf"
      }
    },
    {
      "cell_type": "code",
      "execution_count": 2,
      "metadata": {
        "id": "nfHTKi2XjbSP",
        "outputId": "40a2e4bb-4328-4136-8c46-60b9f2ab4adf",
        "colab": {
          "base_uri": "https://localhost:8080/"
        }
      },
      "outputs": [
        {
          "output_type": "stream",
          "name": "stdout",
          "text": [
            "Drive already mounted at /content/drive; to attempt to forcibly remount, call drive.mount(\"/content/drive\", force_remount=True).\n",
            "Using device: cpu\n",
            "Downloading...\n",
            "From (original): https://drive.google.com/uc?id=1gl5W5PexON0wBfajUTPEkd9AiEnHo4rL\n",
            "From (redirected): https://drive.google.com/uc?id=1gl5W5PexON0wBfajUTPEkd9AiEnHo4rL&confirm=t&uuid=489cf836-b22c-4260-a50e-8ca26207f8d2\n",
            "To: /content/data.hdf5\n",
            "100% 263M/263M [00:07<00:00, 36.8MB/s]\n"
          ]
        }
      ],
      "source": [
        "# Core Python libraries\n",
        "import os\n",
        "\n",
        "# Scientific computing\n",
        "import numpy as np\n",
        "import matplotlib.pyplot as plt\n",
        "import xarray as xr\n",
        "\n",
        "# PyTorch core\n",
        "import torch\n",
        "import torch.nn as nn\n",
        "import torch.nn.functional as F\n",
        "import torch.optim as optim\n",
        "import torch.nn.init as init\n",
        "from torch.utils.data import DataLoader, TensorDataset\n",
        "from torch.utils.data import random_split\n",
        "\n",
        "\n",
        "# Sklearn utilities\n",
        "from sklearn.model_selection import train_test_split\n",
        "from sklearn.preprocessing import StandardScaler, MinMaxScaler\n",
        "\n",
        "# Google Colab (if running in Colab)\n",
        "from google.colab import drive\n",
        "\n",
        "#MOUNT AND R/W DRIVE\n",
        "drive.mount('/content/drive')\n",
        "save_path = \"/content/drive/MyDrive/Weights/best_model.pth\"\n",
        "\n",
        "#GPU or CPU  device setup\n",
        "device = torch.device(\"cuda\" if torch.cuda.is_available() else \"cpu\")\n",
        "print(f\"Using device: {device}\")\n",
        "\n",
        "\n",
        "#download data\n",
        "if not os.path.exists(\"data.hdf5\"):\n",
        "    !gdown https://drive.google.com/uc?id=1gl5W5PexON0wBfajUTPEkd9AiEnHo4rL -O data.hdf5\n"
      ]
    },
    {
      "cell_type": "markdown",
      "source": [
        "### **INITIALISE VARIABLES**"
      ],
      "metadata": {
        "id": "RKxJuolStspb"
      }
    },
    {
      "cell_type": "code",
      "source": [
        "# Initialize\n",
        "criterion = nn.MSELoss().to(device)\n",
        "lr = 0.00005\n",
        "batch_size = 1028\n",
        "best_loss = float(\"inf\")\n",
        "patience_counter = 0\n",
        "patience = 50"
      ],
      "metadata": {
        "id": "t90Gx8mItxmZ"
      },
      "execution_count": 6,
      "outputs": []
    },
    {
      "cell_type": "markdown",
      "source": [
        "### **LOAD DATA/PREPROCESSING/CREATE DATASET**"
      ],
      "metadata": {
        "id": "UOvzrTGStX3x"
      }
    },
    {
      "cell_type": "code",
      "source": [
        "# 🚀 Load dataset\n",
        "ds = xr.open_dataset(\"data.hdf5\", engine=\"h5netcdf\")\n",
        "\n",
        "# 🚀 Select input features and target variable\n",
        "X = ds[\"spectrum\"].values.astype(np.float64)  # Ensure float64\n",
        "y = ds[\"log_H2O\"].values.astype(np.float64)   # Ensure float64\n",
        "\n",
        "# 🚀 Fix: Check for NaNs and replace or remove them\n",
        "if np.isnan(X).any() or np.isnan(y).any():\n",
        "    print(\"Warning: NaN values detected! Replacing with mean...\")\n",
        "    X = np.nan_to_num(X, nan=np.nanmean(X))\n",
        "    y = np.nan_to_num(y, nan=np.nanmean(y))\n",
        "\n",
        "# 🚀 Fix: Normalize input features\n",
        "scaler_X = StandardScaler()\n",
        "X = scaler_X.fit_transform(X)\n",
        "\n",
        "# 🚀 Fix: Normalize target variable (only if necessary)\n",
        "scaler_y = StandardScaler()\n",
        "y = scaler_y.fit_transform(y.reshape(-1, 1)).flatten()  # Reshape before scaling\n",
        "\n",
        "# 🚀 Fix: Split dataset properly\n",
        "X_train, X_val, y_train, y_val = train_test_split(X, y, test_size=0.2, random_state=42)\n",
        "\n",
        "# 🚀 Fix: Apply the SAME SCALERS to validation data\n",
        "X_val = scaler_X.transform(X_val)  # Apply same transformation\n",
        "y_val = scaler_y.transform(y_val.reshape(-1, 1)).flatten()  # Apply same transformation\n",
        "\n",
        "# 🚀 Convert to PyTorch tensors\n",
        "X_train_tensor = torch.tensor(X_train, dtype=torch.float64)\n",
        "y_train_tensor = torch.tensor(y_train, dtype=torch.float64).view(-1, 1)  # Fix shape\n",
        "\n",
        "X_val_tensor = torch.tensor(X_val, dtype=torch.float64)\n",
        "y_val_tensor = torch.tensor(y_val, dtype=torch.float64).view(-1, 1)      # Fix shape\n",
        "\n",
        "# 🚀 Create PyTorch datasets\n",
        "train_dataset = TensorDataset(X_train_tensor, y_train_tensor)\n",
        "val_dataset = TensorDataset(X_val_tensor, y_val_tensor)\n",
        "\n",
        "# 🚀 Load data into DataLoader\n",
        "train_loader = DataLoader(train_dataset, batch_size=batch_size, shuffle=True)\n",
        "val_loader = DataLoader(val_dataset, batch_size=batch_size, shuffle=False)\n",
        "\n",
        "# 🚀 Print some debug info\n",
        "print(f\"Dataset Shapes: X_train {X_train.shape}, X_val {X_val.shape}\")\n",
        "print(f\"Target Shapes: y_train {y_train.shape}, y_val {y_val.shape}\")\n",
        "\n",
        "print(f\"X_train_tensor shape: {X_train_tensor.shape}\")\n",
        "print(f\"y_train_tensor shape: {y_train_tensor.shape}\")\n"
      ],
      "metadata": {
        "id": "Ph8VRnwktf6R",
        "outputId": "9131db7e-b814-40e0-87e7-455fb35b22f9",
        "colab": {
          "base_uri": "https://localhost:8080/"
        }
      },
      "execution_count": 9,
      "outputs": [
        {
          "output_type": "stream",
          "name": "stdout",
          "text": [
            "Dataset Shapes: X_train (58490, 52), X_val (14623, 52)\n",
            "Target Shapes: y_train (58490,), y_val (14623,)\n",
            "X_train_tensor shape: torch.Size([58490, 52])\n",
            "y_train_tensor shape: torch.Size([58490, 1])\n"
          ]
        }
      ]
    },
    {
      "cell_type": "markdown",
      "metadata": {
        "id": "uORyPdScjbSR"
      },
      "source": [
        "# 🌌 What is an HDF5 File?\n",
        "\n",
        "HDF5 (Hierarchical Data Format v5) is a powerful file format designed to store and organize large amounts of data efficiently. For astrophysics, this is especially useful because it can handle **complex, multi-dimensional datasets** (like simulations or observations 🌠) while maintaining high performance in reading and writing data.\n",
        "\n",
        "### Key Features:\n",
        "- **Hierarchical Structure**: Think of it as a file-system-within-a-file 🗂️. You can organize data into groups and datasets for easy access.\n",
        "- **Efficient Storage**: Supports compression and chunking, ideal for managing massive datasets from telescopes or simulations 🛰️.\n",
        "- **Metadata Support**: Attach descriptive information to your data for better context and usability 🏷️.\n",
        "\n",
        "HDF5 files are widely used in astrophysics for handling datasets like cosmic microwave background maps, galaxy catalogs, particle simulations, or in this case, exoplanet observations. 🚀✨\n",
        "\n",
        "If we open the file in python using the xarray package, then we can see that it contains 22 seperate folders, each with data in. The file gives us some information about this data at the top as well, most importantly the dimensions. We are specifically interested in the wavelength, as this will be where the raw spectra data are stored. Samples will tell us how many examples of spectra that we have, which should be around 70,000 🪐\n"
      ]
    },
    {
      "cell_type": "code",
      "execution_count": null,
      "metadata": {
        "id": "vG8dEy27jbSS",
        "outputId": "71ff8745-cbfa-4e98-8d98-bc96ed54b0a9"
      },
      "outputs": [
        {
          "data": {
            "text/html": [
              "<div><svg style=\"position: absolute; width: 0; height: 0; overflow: hidden\">\n",
              "<defs>\n",
              "<symbol id=\"icon-database\" viewBox=\"0 0 32 32\">\n",
              "<path d=\"M16 0c-8.837 0-16 2.239-16 5v4c0 2.761 7.163 5 16 5s16-2.239 16-5v-4c0-2.761-7.163-5-16-5z\"></path>\n",
              "<path d=\"M16 17c-8.837 0-16-2.239-16-5v6c0 2.761 7.163 5 16 5s16-2.239 16-5v-6c0 2.761-7.163 5-16 5z\"></path>\n",
              "<path d=\"M16 26c-8.837 0-16-2.239-16-5v6c0 2.761 7.163 5 16 5s16-2.239 16-5v-6c0 2.761-7.163 5-16 5z\"></path>\n",
              "</symbol>\n",
              "<symbol id=\"icon-file-text2\" viewBox=\"0 0 32 32\">\n",
              "<path d=\"M28.681 7.159c-0.694-0.947-1.662-2.053-2.724-3.116s-2.169-2.030-3.116-2.724c-1.612-1.182-2.393-1.319-2.841-1.319h-15.5c-1.378 0-2.5 1.121-2.5 2.5v27c0 1.378 1.122 2.5 2.5 2.5h23c1.378 0 2.5-1.122 2.5-2.5v-19.5c0-0.448-0.137-1.23-1.319-2.841zM24.543 5.457c0.959 0.959 1.712 1.825 2.268 2.543h-4.811v-4.811c0.718 0.556 1.584 1.309 2.543 2.268zM28 29.5c0 0.271-0.229 0.5-0.5 0.5h-23c-0.271 0-0.5-0.229-0.5-0.5v-27c0-0.271 0.229-0.5 0.5-0.5 0 0 15.499-0 15.5 0v7c0 0.552 0.448 1 1 1h7v19.5z\"></path>\n",
              "<path d=\"M23 26h-14c-0.552 0-1-0.448-1-1s0.448-1 1-1h14c0.552 0 1 0.448 1 1s-0.448 1-1 1z\"></path>\n",
              "<path d=\"M23 22h-14c-0.552 0-1-0.448-1-1s0.448-1 1-1h14c0.552 0 1 0.448 1 1s-0.448 1-1 1z\"></path>\n",
              "<path d=\"M23 18h-14c-0.552 0-1-0.448-1-1s0.448-1 1-1h14c0.552 0 1 0.448 1 1s-0.448 1-1 1z\"></path>\n",
              "</symbol>\n",
              "</defs>\n",
              "</svg>\n",
              "<style>/* CSS stylesheet for displaying xarray objects in jupyterlab.\n",
              " *\n",
              " */\n",
              "\n",
              ":root {\n",
              "  --xr-font-color0: var(--jp-content-font-color0, rgba(0, 0, 0, 1));\n",
              "  --xr-font-color2: var(--jp-content-font-color2, rgba(0, 0, 0, 0.54));\n",
              "  --xr-font-color3: var(--jp-content-font-color3, rgba(0, 0, 0, 0.38));\n",
              "  --xr-border-color: var(--jp-border-color2, #e0e0e0);\n",
              "  --xr-disabled-color: var(--jp-layout-color3, #bdbdbd);\n",
              "  --xr-background-color: var(--jp-layout-color0, white);\n",
              "  --xr-background-color-row-even: var(--jp-layout-color1, white);\n",
              "  --xr-background-color-row-odd: var(--jp-layout-color2, #eeeeee);\n",
              "}\n",
              "\n",
              "html[theme=\"dark\"],\n",
              "html[data-theme=\"dark\"],\n",
              "body[data-theme=\"dark\"],\n",
              "body.vscode-dark {\n",
              "  --xr-font-color0: rgba(255, 255, 255, 1);\n",
              "  --xr-font-color2: rgba(255, 255, 255, 0.54);\n",
              "  --xr-font-color3: rgba(255, 255, 255, 0.38);\n",
              "  --xr-border-color: #1f1f1f;\n",
              "  --xr-disabled-color: #515151;\n",
              "  --xr-background-color: #111111;\n",
              "  --xr-background-color-row-even: #111111;\n",
              "  --xr-background-color-row-odd: #313131;\n",
              "}\n",
              "\n",
              ".xr-wrap {\n",
              "  display: block !important;\n",
              "  min-width: 300px;\n",
              "  max-width: 700px;\n",
              "}\n",
              "\n",
              ".xr-text-repr-fallback {\n",
              "  /* fallback to plain text repr when CSS is not injected (untrusted notebook) */\n",
              "  display: none;\n",
              "}\n",
              "\n",
              ".xr-header {\n",
              "  padding-top: 6px;\n",
              "  padding-bottom: 6px;\n",
              "  margin-bottom: 4px;\n",
              "  border-bottom: solid 1px var(--xr-border-color);\n",
              "}\n",
              "\n",
              ".xr-header > div,\n",
              ".xr-header > ul {\n",
              "  display: inline;\n",
              "  margin-top: 0;\n",
              "  margin-bottom: 0;\n",
              "}\n",
              "\n",
              ".xr-obj-type,\n",
              ".xr-array-name {\n",
              "  margin-left: 2px;\n",
              "  margin-right: 10px;\n",
              "}\n",
              "\n",
              ".xr-obj-type {\n",
              "  color: var(--xr-font-color2);\n",
              "}\n",
              "\n",
              ".xr-sections {\n",
              "  padding-left: 0 !important;\n",
              "  display: grid;\n",
              "  grid-template-columns: 150px auto auto 1fr 0 20px 0 20px;\n",
              "}\n",
              "\n",
              ".xr-section-item {\n",
              "  display: contents;\n",
              "}\n",
              "\n",
              ".xr-section-item input {\n",
              "  display: inline-block;\n",
              "  opacity: 0;\n",
              "  height: 0;\n",
              "}\n",
              "\n",
              ".xr-section-item input + label {\n",
              "  color: var(--xr-disabled-color);\n",
              "}\n",
              "\n",
              ".xr-section-item input:enabled + label {\n",
              "  cursor: pointer;\n",
              "  color: var(--xr-font-color2);\n",
              "}\n",
              "\n",
              ".xr-section-item input:focus + label {\n",
              "  border: 2px solid var(--xr-font-color0);\n",
              "}\n",
              "\n",
              ".xr-section-item input:enabled + label:hover {\n",
              "  color: var(--xr-font-color0);\n",
              "}\n",
              "\n",
              ".xr-section-summary {\n",
              "  grid-column: 1;\n",
              "  color: var(--xr-font-color2);\n",
              "  font-weight: 500;\n",
              "}\n",
              "\n",
              ".xr-section-summary > span {\n",
              "  display: inline-block;\n",
              "  padding-left: 0.5em;\n",
              "}\n",
              "\n",
              ".xr-section-summary-in:disabled + label {\n",
              "  color: var(--xr-font-color2);\n",
              "}\n",
              "\n",
              ".xr-section-summary-in + label:before {\n",
              "  display: inline-block;\n",
              "  content: \"►\";\n",
              "  font-size: 11px;\n",
              "  width: 15px;\n",
              "  text-align: center;\n",
              "}\n",
              "\n",
              ".xr-section-summary-in:disabled + label:before {\n",
              "  color: var(--xr-disabled-color);\n",
              "}\n",
              "\n",
              ".xr-section-summary-in:checked + label:before {\n",
              "  content: \"▼\";\n",
              "}\n",
              "\n",
              ".xr-section-summary-in:checked + label > span {\n",
              "  display: none;\n",
              "}\n",
              "\n",
              ".xr-section-summary,\n",
              ".xr-section-inline-details {\n",
              "  padding-top: 4px;\n",
              "  padding-bottom: 4px;\n",
              "}\n",
              "\n",
              ".xr-section-inline-details {\n",
              "  grid-column: 2 / -1;\n",
              "}\n",
              "\n",
              ".xr-section-details {\n",
              "  display: none;\n",
              "  grid-column: 1 / -1;\n",
              "  margin-bottom: 5px;\n",
              "}\n",
              "\n",
              ".xr-section-summary-in:checked ~ .xr-section-details {\n",
              "  display: contents;\n",
              "}\n",
              "\n",
              ".xr-array-wrap {\n",
              "  grid-column: 1 / -1;\n",
              "  display: grid;\n",
              "  grid-template-columns: 20px auto;\n",
              "}\n",
              "\n",
              ".xr-array-wrap > label {\n",
              "  grid-column: 1;\n",
              "  vertical-align: top;\n",
              "}\n",
              "\n",
              ".xr-preview {\n",
              "  color: var(--xr-font-color3);\n",
              "}\n",
              "\n",
              ".xr-array-preview,\n",
              ".xr-array-data {\n",
              "  padding: 0 5px !important;\n",
              "  grid-column: 2;\n",
              "}\n",
              "\n",
              ".xr-array-data,\n",
              ".xr-array-in:checked ~ .xr-array-preview {\n",
              "  display: none;\n",
              "}\n",
              "\n",
              ".xr-array-in:checked ~ .xr-array-data,\n",
              ".xr-array-preview {\n",
              "  display: inline-block;\n",
              "}\n",
              "\n",
              ".xr-dim-list {\n",
              "  display: inline-block !important;\n",
              "  list-style: none;\n",
              "  padding: 0 !important;\n",
              "  margin: 0;\n",
              "}\n",
              "\n",
              ".xr-dim-list li {\n",
              "  display: inline-block;\n",
              "  padding: 0;\n",
              "  margin: 0;\n",
              "}\n",
              "\n",
              ".xr-dim-list:before {\n",
              "  content: \"(\";\n",
              "}\n",
              "\n",
              ".xr-dim-list:after {\n",
              "  content: \")\";\n",
              "}\n",
              "\n",
              ".xr-dim-list li:not(:last-child):after {\n",
              "  content: \",\";\n",
              "  padding-right: 5px;\n",
              "}\n",
              "\n",
              ".xr-has-index {\n",
              "  font-weight: bold;\n",
              "}\n",
              "\n",
              ".xr-var-list,\n",
              ".xr-var-item {\n",
              "  display: contents;\n",
              "}\n",
              "\n",
              ".xr-var-item > div,\n",
              ".xr-var-item label,\n",
              ".xr-var-item > .xr-var-name span {\n",
              "  background-color: var(--xr-background-color-row-even);\n",
              "  margin-bottom: 0;\n",
              "}\n",
              "\n",
              ".xr-var-item > .xr-var-name:hover span {\n",
              "  padding-right: 5px;\n",
              "}\n",
              "\n",
              ".xr-var-list > li:nth-child(odd) > div,\n",
              ".xr-var-list > li:nth-child(odd) > label,\n",
              ".xr-var-list > li:nth-child(odd) > .xr-var-name span {\n",
              "  background-color: var(--xr-background-color-row-odd);\n",
              "}\n",
              "\n",
              ".xr-var-name {\n",
              "  grid-column: 1;\n",
              "}\n",
              "\n",
              ".xr-var-dims {\n",
              "  grid-column: 2;\n",
              "}\n",
              "\n",
              ".xr-var-dtype {\n",
              "  grid-column: 3;\n",
              "  text-align: right;\n",
              "  color: var(--xr-font-color2);\n",
              "}\n",
              "\n",
              ".xr-var-preview {\n",
              "  grid-column: 4;\n",
              "}\n",
              "\n",
              ".xr-index-preview {\n",
              "  grid-column: 2 / 5;\n",
              "  color: var(--xr-font-color2);\n",
              "}\n",
              "\n",
              ".xr-var-name,\n",
              ".xr-var-dims,\n",
              ".xr-var-dtype,\n",
              ".xr-preview,\n",
              ".xr-attrs dt {\n",
              "  white-space: nowrap;\n",
              "  overflow: hidden;\n",
              "  text-overflow: ellipsis;\n",
              "  padding-right: 10px;\n",
              "}\n",
              "\n",
              ".xr-var-name:hover,\n",
              ".xr-var-dims:hover,\n",
              ".xr-var-dtype:hover,\n",
              ".xr-attrs dt:hover {\n",
              "  overflow: visible;\n",
              "  width: auto;\n",
              "  z-index: 1;\n",
              "}\n",
              "\n",
              ".xr-var-attrs,\n",
              ".xr-var-data,\n",
              ".xr-index-data {\n",
              "  display: none;\n",
              "  background-color: var(--xr-background-color) !important;\n",
              "  padding-bottom: 5px !important;\n",
              "}\n",
              "\n",
              ".xr-var-attrs-in:checked ~ .xr-var-attrs,\n",
              ".xr-var-data-in:checked ~ .xr-var-data,\n",
              ".xr-index-data-in:checked ~ .xr-index-data {\n",
              "  display: block;\n",
              "}\n",
              "\n",
              ".xr-var-data > table {\n",
              "  float: right;\n",
              "}\n",
              "\n",
              ".xr-var-name span,\n",
              ".xr-var-data,\n",
              ".xr-index-name div,\n",
              ".xr-index-data,\n",
              ".xr-attrs {\n",
              "  padding-left: 25px !important;\n",
              "}\n",
              "\n",
              ".xr-attrs,\n",
              ".xr-var-attrs,\n",
              ".xr-var-data,\n",
              ".xr-index-data {\n",
              "  grid-column: 1 / -1;\n",
              "}\n",
              "\n",
              "dl.xr-attrs {\n",
              "  padding: 0;\n",
              "  margin: 0;\n",
              "  display: grid;\n",
              "  grid-template-columns: 125px auto;\n",
              "}\n",
              "\n",
              ".xr-attrs dt,\n",
              ".xr-attrs dd {\n",
              "  padding: 0;\n",
              "  margin: 0;\n",
              "  float: left;\n",
              "  padding-right: 10px;\n",
              "  width: auto;\n",
              "}\n",
              "\n",
              ".xr-attrs dt {\n",
              "  font-weight: normal;\n",
              "  grid-column: 1;\n",
              "}\n",
              "\n",
              ".xr-attrs dt:hover span {\n",
              "  display: inline-block;\n",
              "  background: var(--xr-background-color);\n",
              "  padding-right: 10px;\n",
              "}\n",
              "\n",
              ".xr-attrs dd {\n",
              "  grid-column: 2;\n",
              "  white-space: pre-wrap;\n",
              "  word-break: break-all;\n",
              "}\n",
              "\n",
              ".xr-icon-database,\n",
              ".xr-icon-file-text2,\n",
              ".xr-no-icon {\n",
              "  display: inline-block;\n",
              "  vertical-align: middle;\n",
              "  width: 1em;\n",
              "  height: 1.5em !important;\n",
              "  stroke-width: 0;\n",
              "  stroke: currentColor;\n",
              "  fill: currentColor;\n",
              "}\n",
              "</style><pre class='xr-text-repr-fallback'>&lt;xarray.Dataset&gt; Size: 329MB\n",
              "Dimensions:                 (wavelength: 52, sample: 91392, parameter: 6,\n",
              "                             quartile: 3, species: 5)\n",
              "Coordinates:\n",
              "  * wavelength              (wavelength) float64 416B 0.55 0.7 ... 6.814 7.276\n",
              "  * sample                  (sample) int64 731kB 0 1 2 3 ... 91389 91390 91391\n",
              "  * parameter               (parameter) &lt;U13 312B &#x27;planet_temp_k&#x27; ... &#x27;log_NH3&#x27;\n",
              "  * quartile                (quartile) &lt;U2 24B &#x27;q1&#x27; &#x27;q2&#x27; &#x27;q3&#x27;\n",
              "  * species                 (species) &lt;U3 60B &#x27;H2O&#x27; &#x27;CO2&#x27; &#x27;CH4&#x27; &#x27;CO&#x27; &#x27;NH3&#x27;\n",
              "Data variables: (12/22)\n",
              "    bin_width               (wavelength) float64 416B ...\n",
              "    spectrum                (sample, wavelength) float64 38MB ...\n",
              "    noise                   (sample, wavelength) float64 38MB ...\n",
              "    planet_temp_k           (sample) float64 731kB ...\n",
              "    log_H2O                 (sample) float64 731kB ...\n",
              "    log_CO2                 (sample) float64 731kB ...\n",
              "    ...                      ...\n",
              "    planet_radius_m         (sample) float64 731kB ...\n",
              "    planet_surface_gravity  (sample) float64 731kB ...\n",
              "    valid_quartiles         (sample) bool 91kB ...\n",
              "    parameter_quartiles     (sample, parameter, quartile) float64 13MB ...\n",
              "    contributions           (sample, species, wavelength) float64 190MB ...\n",
              "    clean_forward_model     (sample, wavelength) float64 38MB ...</pre><div class='xr-wrap' style='display:none'><div class='xr-header'><div class='xr-obj-type'>xarray.Dataset</div></div><ul class='xr-sections'><li class='xr-section-item'><input id='section-16fd8268-6901-412b-977b-ba8677b0f354' class='xr-section-summary-in' type='checkbox' disabled ><label for='section-16fd8268-6901-412b-977b-ba8677b0f354' class='xr-section-summary'  title='Expand/collapse section'>Dimensions:</label><div class='xr-section-inline-details'><ul class='xr-dim-list'><li><span class='xr-has-index'>wavelength</span>: 52</li><li><span class='xr-has-index'>sample</span>: 91392</li><li><span class='xr-has-index'>parameter</span>: 6</li><li><span class='xr-has-index'>quartile</span>: 3</li><li><span class='xr-has-index'>species</span>: 5</li></ul></div><div class='xr-section-details'></div></li><li class='xr-section-item'><input id='section-5089a50c-49fb-4700-8556-b956a0752192' class='xr-section-summary-in' type='checkbox'  checked><label for='section-5089a50c-49fb-4700-8556-b956a0752192' class='xr-section-summary' >Coordinates: <span>(5)</span></label><div class='xr-section-inline-details'></div><div class='xr-section-details'><ul class='xr-var-list'><li class='xr-var-item'><div class='xr-var-name'><span class='xr-has-index'>wavelength</span></div><div class='xr-var-dims'>(wavelength)</div><div class='xr-var-dtype'>float64</div><div class='xr-var-preview xr-preview'>0.55 0.7 0.95 ... 6.381 6.814 7.276</div><input id='attrs-6b87930b-cdc7-4472-a670-23ffb2c4f744' class='xr-var-attrs-in' type='checkbox' disabled><label for='attrs-6b87930b-cdc7-4472-a670-23ffb2c4f744' title='Show/Hide attributes'><svg class='icon xr-icon-file-text2'><use xlink:href='#icon-file-text2'></use></svg></label><input id='data-2b48859d-90bc-4b2f-aa69-b7ccc2e476d8' class='xr-var-data-in' type='checkbox'><label for='data-2b48859d-90bc-4b2f-aa69-b7ccc2e476d8' title='Show/Hide data repr'><svg class='icon xr-icon-database'><use xlink:href='#icon-database'></use></svg></label><div class='xr-var-attrs'><dl class='xr-attrs'></dl></div><div class='xr-var-data'><pre>array([0.55    , 0.7     , 0.95    , 1.156375, 1.274903, 1.405581, 1.549653,\n",
              "       1.708493, 1.883613, 1.969598, 2.009186, 2.049571, 2.090767, 2.132792,\n",
              "       2.175661, 2.219392, 2.264002, 2.309508, 2.355929, 2.403283, 2.451589,\n",
              "       2.500866, 2.551134, 2.602411, 2.65472 , 2.70808 , 2.762512, 2.818039,\n",
              "       2.874681, 2.932462, 2.991405, 3.051532, 3.112868, 3.175436, 3.239263,\n",
              "       3.304372, 3.37079 , 3.438543, 3.507657, 3.578161, 3.650082, 3.723449,\n",
              "       4.032167, 4.305458, 4.597272, 4.908865, 5.241577, 5.59684 , 5.976181,\n",
              "       6.381233, 6.813739, 7.275559])</pre></div></li><li class='xr-var-item'><div class='xr-var-name'><span class='xr-has-index'>sample</span></div><div class='xr-var-dims'>(sample)</div><div class='xr-var-dtype'>int64</div><div class='xr-var-preview xr-preview'>0 1 2 3 ... 91388 91389 91390 91391</div><input id='attrs-9b65e588-d6d5-428e-a6b5-7e6229d45b8d' class='xr-var-attrs-in' type='checkbox' disabled><label for='attrs-9b65e588-d6d5-428e-a6b5-7e6229d45b8d' title='Show/Hide attributes'><svg class='icon xr-icon-file-text2'><use xlink:href='#icon-file-text2'></use></svg></label><input id='data-44458075-4674-4cd0-bde9-1b328fcd0fa7' class='xr-var-data-in' type='checkbox'><label for='data-44458075-4674-4cd0-bde9-1b328fcd0fa7' title='Show/Hide data repr'><svg class='icon xr-icon-database'><use xlink:href='#icon-database'></use></svg></label><div class='xr-var-attrs'><dl class='xr-attrs'></dl></div><div class='xr-var-data'><pre>array([    0,     1,     2, ..., 91389, 91390, 91391])</pre></div></li><li class='xr-var-item'><div class='xr-var-name'><span class='xr-has-index'>parameter</span></div><div class='xr-var-dims'>(parameter)</div><div class='xr-var-dtype'>&lt;U13</div><div class='xr-var-preview xr-preview'>&#x27;planet_temp_k&#x27; ... &#x27;log_NH3&#x27;</div><input id='attrs-c5109f26-8f39-4cb9-ae26-c6854c9c8608' class='xr-var-attrs-in' type='checkbox' disabled><label for='attrs-c5109f26-8f39-4cb9-ae26-c6854c9c8608' title='Show/Hide attributes'><svg class='icon xr-icon-file-text2'><use xlink:href='#icon-file-text2'></use></svg></label><input id='data-41728da1-96ca-4d40-ac33-92ef759d0728' class='xr-var-data-in' type='checkbox'><label for='data-41728da1-96ca-4d40-ac33-92ef759d0728' title='Show/Hide data repr'><svg class='icon xr-icon-database'><use xlink:href='#icon-database'></use></svg></label><div class='xr-var-attrs'><dl class='xr-attrs'></dl></div><div class='xr-var-data'><pre>array([&#x27;planet_temp_k&#x27;, &#x27;log_H2O&#x27;, &#x27;log_CO2&#x27;, &#x27;log_CH4&#x27;, &#x27;log_CO&#x27;, &#x27;log_NH3&#x27;],\n",
              "      dtype=&#x27;&lt;U13&#x27;)</pre></div></li><li class='xr-var-item'><div class='xr-var-name'><span class='xr-has-index'>quartile</span></div><div class='xr-var-dims'>(quartile)</div><div class='xr-var-dtype'>&lt;U2</div><div class='xr-var-preview xr-preview'>&#x27;q1&#x27; &#x27;q2&#x27; &#x27;q3&#x27;</div><input id='attrs-3afca893-cd11-4af2-8a78-d12b85a97d1b' class='xr-var-attrs-in' type='checkbox' disabled><label for='attrs-3afca893-cd11-4af2-8a78-d12b85a97d1b' title='Show/Hide attributes'><svg class='icon xr-icon-file-text2'><use xlink:href='#icon-file-text2'></use></svg></label><input id='data-4a89688a-0e1a-4477-ade2-323950aed86c' class='xr-var-data-in' type='checkbox'><label for='data-4a89688a-0e1a-4477-ade2-323950aed86c' title='Show/Hide data repr'><svg class='icon xr-icon-database'><use xlink:href='#icon-database'></use></svg></label><div class='xr-var-attrs'><dl class='xr-attrs'></dl></div><div class='xr-var-data'><pre>array([&#x27;q1&#x27;, &#x27;q2&#x27;, &#x27;q3&#x27;], dtype=&#x27;&lt;U2&#x27;)</pre></div></li><li class='xr-var-item'><div class='xr-var-name'><span class='xr-has-index'>species</span></div><div class='xr-var-dims'>(species)</div><div class='xr-var-dtype'>&lt;U3</div><div class='xr-var-preview xr-preview'>&#x27;H2O&#x27; &#x27;CO2&#x27; &#x27;CH4&#x27; &#x27;CO&#x27; &#x27;NH3&#x27;</div><input id='attrs-cc960cf4-08b4-4a62-9104-a3b0b9a4cd39' class='xr-var-attrs-in' type='checkbox' disabled><label for='attrs-cc960cf4-08b4-4a62-9104-a3b0b9a4cd39' title='Show/Hide attributes'><svg class='icon xr-icon-file-text2'><use xlink:href='#icon-file-text2'></use></svg></label><input id='data-03db4584-85ed-4554-9c01-8a5ca5b2e94a' class='xr-var-data-in' type='checkbox'><label for='data-03db4584-85ed-4554-9c01-8a5ca5b2e94a' title='Show/Hide data repr'><svg class='icon xr-icon-database'><use xlink:href='#icon-database'></use></svg></label><div class='xr-var-attrs'><dl class='xr-attrs'></dl></div><div class='xr-var-data'><pre>array([&#x27;H2O&#x27;, &#x27;CO2&#x27;, &#x27;CH4&#x27;, &#x27;CO&#x27;, &#x27;NH3&#x27;], dtype=&#x27;&lt;U3&#x27;)</pre></div></li></ul></div></li><li class='xr-section-item'><input id='section-4d7645fa-d9ee-42e6-a18c-f9ad2d16820d' class='xr-section-summary-in' type='checkbox'  ><label for='section-4d7645fa-d9ee-42e6-a18c-f9ad2d16820d' class='xr-section-summary' >Data variables: <span>(22)</span></label><div class='xr-section-inline-details'></div><div class='xr-section-details'><ul class='xr-var-list'><li class='xr-var-item'><div class='xr-var-name'><span>bin_width</span></div><div class='xr-var-dims'>(wavelength)</div><div class='xr-var-dtype'>float64</div><div class='xr-var-preview xr-preview'>...</div><input id='attrs-84b40d99-6526-4071-b571-df2aeee19473' class='xr-var-attrs-in' type='checkbox' ><label for='attrs-84b40d99-6526-4071-b571-df2aeee19473' title='Show/Hide attributes'><svg class='icon xr-icon-file-text2'><use xlink:href='#icon-file-text2'></use></svg></label><input id='data-95cdbdfb-c41d-4377-a810-21dbb326d011' class='xr-var-data-in' type='checkbox'><label for='data-95cdbdfb-c41d-4377-a810-21dbb326d011' title='Show/Hide data repr'><svg class='icon xr-icon-database'><use xlink:href='#icon-database'></use></svg></label><div class='xr-var-attrs'><dl class='xr-attrs'><dt><span>units :</span></dt><dd>µm</dd><dt><span>description :</span></dt><dd>width of the spectral bins</dd></dl></div><div class='xr-var-data'><pre>[52 values with dtype=float64]</pre></div></li><li class='xr-var-item'><div class='xr-var-name'><span>spectrum</span></div><div class='xr-var-dims'>(sample, wavelength)</div><div class='xr-var-dtype'>float64</div><div class='xr-var-preview xr-preview'>...</div><input id='attrs-1a75a51c-40e3-44e5-abe8-c69d049afa80' class='xr-var-attrs-in' type='checkbox' ><label for='attrs-1a75a51c-40e3-44e5-abe8-c69d049afa80' title='Show/Hide attributes'><svg class='icon xr-icon-file-text2'><use xlink:href='#icon-file-text2'></use></svg></label><input id='data-b4213f9b-1bc5-423f-8257-6a1a07167be8' class='xr-var-data-in' type='checkbox'><label for='data-b4213f9b-1bc5-423f-8257-6a1a07167be8' title='Show/Hide data repr'><svg class='icon xr-icon-database'><use xlink:href='#icon-database'></use></svg></label><div class='xr-var-attrs'><dl class='xr-attrs'><dt><span>units :</span></dt><dd>transit depth</dd><dt><span>dataset :</span></dt><dd>data</dd><dt><span>description :</span></dt><dd>the (forward model generated) observed spectra</dd></dl></div><div class='xr-var-data'><pre>[4752384 values with dtype=float64]</pre></div></li><li class='xr-var-item'><div class='xr-var-name'><span>noise</span></div><div class='xr-var-dims'>(sample, wavelength)</div><div class='xr-var-dtype'>float64</div><div class='xr-var-preview xr-preview'>...</div><input id='attrs-76423e92-b923-4cac-84c8-dfa5cef32478' class='xr-var-attrs-in' type='checkbox' ><label for='attrs-76423e92-b923-4cac-84c8-dfa5cef32478' title='Show/Hide attributes'><svg class='icon xr-icon-file-text2'><use xlink:href='#icon-file-text2'></use></svg></label><input id='data-dd1c8143-c30b-4aba-8192-bc4cff00efeb' class='xr-var-data-in' type='checkbox'><label for='data-dd1c8143-c30b-4aba-8192-bc4cff00efeb' title='Show/Hide data repr'><svg class='icon xr-icon-database'><use xlink:href='#icon-database'></use></svg></label><div class='xr-var-attrs'><dl class='xr-attrs'><dt><span>units :</span></dt><dd>transit depth</dd><dt><span>dataset :</span></dt><dd>data</dd><dt><span>description :</span></dt><dd>estimated instrument noise in each bin</dd></dl></div><div class='xr-var-data'><pre>[4752384 values with dtype=float64]</pre></div></li><li class='xr-var-item'><div class='xr-var-name'><span>planet_temp_k</span></div><div class='xr-var-dims'>(sample)</div><div class='xr-var-dtype'>float64</div><div class='xr-var-preview xr-preview'>...</div><input id='attrs-ec433ae4-5b4b-4ab8-9c01-eec8c3cb0275' class='xr-var-attrs-in' type='checkbox' ><label for='attrs-ec433ae4-5b4b-4ab8-9c01-eec8c3cb0275' title='Show/Hide attributes'><svg class='icon xr-icon-file-text2'><use xlink:href='#icon-file-text2'></use></svg></label><input id='data-86edacd8-c2bf-48b0-ab79-4e4081a0c1a2' class='xr-var-data-in' type='checkbox'><label for='data-86edacd8-c2bf-48b0-ab79-4e4081a0c1a2' title='Show/Hide data repr'><svg class='icon xr-icon-database'><use xlink:href='#icon-database'></use></svg></label><div class='xr-var-attrs'><dl class='xr-attrs'><dt><span>dataset :</span></dt><dd>label</dd><dt><span>units :</span></dt><dd>kelvin</dd></dl></div><div class='xr-var-data'><pre>[91392 values with dtype=float64]</pre></div></li><li class='xr-var-item'><div class='xr-var-name'><span>log_H2O</span></div><div class='xr-var-dims'>(sample)</div><div class='xr-var-dtype'>float64</div><div class='xr-var-preview xr-preview'>...</div><input id='attrs-fb7c2ec0-e441-4ec4-b3be-cb61e9870d70' class='xr-var-attrs-in' type='checkbox' ><label for='attrs-fb7c2ec0-e441-4ec4-b3be-cb61e9870d70' title='Show/Hide attributes'><svg class='icon xr-icon-file-text2'><use xlink:href='#icon-file-text2'></use></svg></label><input id='data-9e42450a-8984-41e2-9faf-d0076c9bfa64' class='xr-var-data-in' type='checkbox'><label for='data-9e42450a-8984-41e2-9faf-d0076c9bfa64' title='Show/Hide data repr'><svg class='icon xr-icon-database'><use xlink:href='#icon-database'></use></svg></label><div class='xr-var-attrs'><dl class='xr-attrs'><dt><span>dataset :</span></dt><dd>label</dd><dt><span>units :</span></dt><dd>log(mol/mol)</dd></dl></div><div class='xr-var-data'><pre>[91392 values with dtype=float64]</pre></div></li><li class='xr-var-item'><div class='xr-var-name'><span>log_CO2</span></div><div class='xr-var-dims'>(sample)</div><div class='xr-var-dtype'>float64</div><div class='xr-var-preview xr-preview'>...</div><input id='attrs-84ed34de-7671-45f4-9df6-b8b4af84b247' class='xr-var-attrs-in' type='checkbox' ><label for='attrs-84ed34de-7671-45f4-9df6-b8b4af84b247' title='Show/Hide attributes'><svg class='icon xr-icon-file-text2'><use xlink:href='#icon-file-text2'></use></svg></label><input id='data-66be5b95-8654-4c41-9faa-994cb11c0449' class='xr-var-data-in' type='checkbox'><label for='data-66be5b95-8654-4c41-9faa-994cb11c0449' title='Show/Hide data repr'><svg class='icon xr-icon-database'><use xlink:href='#icon-database'></use></svg></label><div class='xr-var-attrs'><dl class='xr-attrs'><dt><span>dataset :</span></dt><dd>label</dd><dt><span>units :</span></dt><dd>log(mol/mol)</dd></dl></div><div class='xr-var-data'><pre>[91392 values with dtype=float64]</pre></div></li><li class='xr-var-item'><div class='xr-var-name'><span>log_CH4</span></div><div class='xr-var-dims'>(sample)</div><div class='xr-var-dtype'>float64</div><div class='xr-var-preview xr-preview'>...</div><input id='attrs-2aad7c3a-d6dc-40c9-b772-334bca896515' class='xr-var-attrs-in' type='checkbox' ><label for='attrs-2aad7c3a-d6dc-40c9-b772-334bca896515' title='Show/Hide attributes'><svg class='icon xr-icon-file-text2'><use xlink:href='#icon-file-text2'></use></svg></label><input id='data-69652bc1-bdc6-4742-b896-138e1fd21170' class='xr-var-data-in' type='checkbox'><label for='data-69652bc1-bdc6-4742-b896-138e1fd21170' title='Show/Hide data repr'><svg class='icon xr-icon-database'><use xlink:href='#icon-database'></use></svg></label><div class='xr-var-attrs'><dl class='xr-attrs'><dt><span>dataset :</span></dt><dd>label</dd><dt><span>units :</span></dt><dd>log(mol/mol)</dd></dl></div><div class='xr-var-data'><pre>[91392 values with dtype=float64]</pre></div></li><li class='xr-var-item'><div class='xr-var-name'><span>log_CO</span></div><div class='xr-var-dims'>(sample)</div><div class='xr-var-dtype'>float64</div><div class='xr-var-preview xr-preview'>...</div><input id='attrs-8bb1872a-5693-4222-8498-f87ceea37711' class='xr-var-attrs-in' type='checkbox' ><label for='attrs-8bb1872a-5693-4222-8498-f87ceea37711' title='Show/Hide attributes'><svg class='icon xr-icon-file-text2'><use xlink:href='#icon-file-text2'></use></svg></label><input id='data-e7405a52-4995-4245-8eb9-536edd954db1' class='xr-var-data-in' type='checkbox'><label for='data-e7405a52-4995-4245-8eb9-536edd954db1' title='Show/Hide data repr'><svg class='icon xr-icon-database'><use xlink:href='#icon-database'></use></svg></label><div class='xr-var-attrs'><dl class='xr-attrs'><dt><span>dataset :</span></dt><dd>label</dd><dt><span>units :</span></dt><dd>log(mol/mol)</dd></dl></div><div class='xr-var-data'><pre>[91392 values with dtype=float64]</pre></div></li><li class='xr-var-item'><div class='xr-var-name'><span>log_NH3</span></div><div class='xr-var-dims'>(sample)</div><div class='xr-var-dtype'>float64</div><div class='xr-var-preview xr-preview'>...</div><input id='attrs-32e647a6-f322-4a45-8279-ae9569e59995' class='xr-var-attrs-in' type='checkbox' ><label for='attrs-32e647a6-f322-4a45-8279-ae9569e59995' title='Show/Hide attributes'><svg class='icon xr-icon-file-text2'><use xlink:href='#icon-file-text2'></use></svg></label><input id='data-e2ed40d8-6a0b-4249-a0d9-7cbc69681f8f' class='xr-var-data-in' type='checkbox'><label for='data-e2ed40d8-6a0b-4249-a0d9-7cbc69681f8f' title='Show/Hide data repr'><svg class='icon xr-icon-database'><use xlink:href='#icon-database'></use></svg></label><div class='xr-var-attrs'><dl class='xr-attrs'><dt><span>dataset :</span></dt><dd>label</dd><dt><span>units :</span></dt><dd>log(mol/mol)</dd></dl></div><div class='xr-var-data'><pre>[91392 values with dtype=float64]</pre></div></li><li class='xr-var-item'><div class='xr-var-name'><span>star_distance</span></div><div class='xr-var-dims'>(sample)</div><div class='xr-var-dtype'>float64</div><div class='xr-var-preview xr-preview'>...</div><input id='attrs-b5030959-0565-4a17-a53f-750b6e582134' class='xr-var-attrs-in' type='checkbox' ><label for='attrs-b5030959-0565-4a17-a53f-750b6e582134' title='Show/Hide attributes'><svg class='icon xr-icon-file-text2'><use xlink:href='#icon-file-text2'></use></svg></label><input id='data-d6e5fae2-7cb9-4f37-b0e0-fc9d53f3e14b' class='xr-var-data-in' type='checkbox'><label for='data-d6e5fae2-7cb9-4f37-b0e0-fc9d53f3e14b' title='Show/Hide data repr'><svg class='icon xr-icon-database'><use xlink:href='#icon-database'></use></svg></label><div class='xr-var-attrs'><dl class='xr-attrs'><dt><span>dataset :</span></dt><dd>auxiliary</dd><dt><span>units :</span></dt><dd>parsec</dd></dl></div><div class='xr-var-data'><pre>[91392 values with dtype=float64]</pre></div></li><li class='xr-var-item'><div class='xr-var-name'><span>star_mass_kg</span></div><div class='xr-var-dims'>(sample)</div><div class='xr-var-dtype'>float64</div><div class='xr-var-preview xr-preview'>...</div><input id='attrs-f7754fcb-d754-4bb2-980a-443214ab70e6' class='xr-var-attrs-in' type='checkbox' ><label for='attrs-f7754fcb-d754-4bb2-980a-443214ab70e6' title='Show/Hide attributes'><svg class='icon xr-icon-file-text2'><use xlink:href='#icon-file-text2'></use></svg></label><input id='data-a9b84cab-ab61-46fc-a68d-4d938980299a' class='xr-var-data-in' type='checkbox'><label for='data-a9b84cab-ab61-46fc-a68d-4d938980299a' title='Show/Hide data repr'><svg class='icon xr-icon-database'><use xlink:href='#icon-database'></use></svg></label><div class='xr-var-attrs'><dl class='xr-attrs'><dt><span>dataset :</span></dt><dd>auxiliary</dd><dt><span>units :</span></dt><dd>kg</dd></dl></div><div class='xr-var-data'><pre>[91392 values with dtype=float64]</pre></div></li><li class='xr-var-item'><div class='xr-var-name'><span>star_radius_m</span></div><div class='xr-var-dims'>(sample)</div><div class='xr-var-dtype'>float64</div><div class='xr-var-preview xr-preview'>...</div><input id='attrs-3e2f75f5-def1-487e-a9fc-b7264f4131a0' class='xr-var-attrs-in' type='checkbox' ><label for='attrs-3e2f75f5-def1-487e-a9fc-b7264f4131a0' title='Show/Hide attributes'><svg class='icon xr-icon-file-text2'><use xlink:href='#icon-file-text2'></use></svg></label><input id='data-6796ede4-f809-4249-a350-db58e5ff39cb' class='xr-var-data-in' type='checkbox'><label for='data-6796ede4-f809-4249-a350-db58e5ff39cb' title='Show/Hide data repr'><svg class='icon xr-icon-database'><use xlink:href='#icon-database'></use></svg></label><div class='xr-var-attrs'><dl class='xr-attrs'><dt><span>dataset :</span></dt><dd>auxiliary</dd><dt><span>units :</span></dt><dd>unknown</dd></dl></div><div class='xr-var-data'><pre>[91392 values with dtype=float64]</pre></div></li><li class='xr-var-item'><div class='xr-var-name'><span>star_temperature_k</span></div><div class='xr-var-dims'>(sample)</div><div class='xr-var-dtype'>float64</div><div class='xr-var-preview xr-preview'>...</div><input id='attrs-ea8ba41a-4c06-4a3a-8460-40f74c696ea3' class='xr-var-attrs-in' type='checkbox' ><label for='attrs-ea8ba41a-4c06-4a3a-8460-40f74c696ea3' title='Show/Hide attributes'><svg class='icon xr-icon-file-text2'><use xlink:href='#icon-file-text2'></use></svg></label><input id='data-c6a09d4e-5b0d-4b7b-bf3b-4315c3c6bce4' class='xr-var-data-in' type='checkbox'><label for='data-c6a09d4e-5b0d-4b7b-bf3b-4315c3c6bce4' title='Show/Hide data repr'><svg class='icon xr-icon-database'><use xlink:href='#icon-database'></use></svg></label><div class='xr-var-attrs'><dl class='xr-attrs'><dt><span>dataset :</span></dt><dd>auxiliary</dd><dt><span>units :</span></dt><dd>kelvin</dd></dl></div><div class='xr-var-data'><pre>[91392 values with dtype=float64]</pre></div></li><li class='xr-var-item'><div class='xr-var-name'><span>planet_mass_kg</span></div><div class='xr-var-dims'>(sample)</div><div class='xr-var-dtype'>float64</div><div class='xr-var-preview xr-preview'>...</div><input id='attrs-2801141c-0340-48fc-8a1e-648ebae6d9fa' class='xr-var-attrs-in' type='checkbox' ><label for='attrs-2801141c-0340-48fc-8a1e-648ebae6d9fa' title='Show/Hide attributes'><svg class='icon xr-icon-file-text2'><use xlink:href='#icon-file-text2'></use></svg></label><input id='data-b9827cd8-5984-4858-b9db-030038f27bb5' class='xr-var-data-in' type='checkbox'><label for='data-b9827cd8-5984-4858-b9db-030038f27bb5' title='Show/Hide data repr'><svg class='icon xr-icon-database'><use xlink:href='#icon-database'></use></svg></label><div class='xr-var-attrs'><dl class='xr-attrs'><dt><span>dataset :</span></dt><dd>auxiliary</dd><dt><span>units :</span></dt><dd>kg</dd></dl></div><div class='xr-var-data'><pre>[91392 values with dtype=float64]</pre></div></li><li class='xr-var-item'><div class='xr-var-name'><span>planet_orbital_period</span></div><div class='xr-var-dims'>(sample)</div><div class='xr-var-dtype'>float64</div><div class='xr-var-preview xr-preview'>...</div><input id='attrs-c0937bdf-7b26-4b9a-9cc2-1f6c3ab342b3' class='xr-var-attrs-in' type='checkbox' ><label for='attrs-c0937bdf-7b26-4b9a-9cc2-1f6c3ab342b3' title='Show/Hide attributes'><svg class='icon xr-icon-file-text2'><use xlink:href='#icon-file-text2'></use></svg></label><input id='data-c212c644-a9eb-4048-8c29-37b9e6f99b45' class='xr-var-data-in' type='checkbox'><label for='data-c212c644-a9eb-4048-8c29-37b9e6f99b45' title='Show/Hide data repr'><svg class='icon xr-icon-database'><use xlink:href='#icon-database'></use></svg></label><div class='xr-var-attrs'><dl class='xr-attrs'><dt><span>dataset :</span></dt><dd>auxiliary</dd><dt><span>units :</span></dt><dd>d@ys</dd></dl></div><div class='xr-var-data'><pre>[91392 values with dtype=float64]</pre></div></li><li class='xr-var-item'><div class='xr-var-name'><span>planet_distance</span></div><div class='xr-var-dims'>(sample)</div><div class='xr-var-dtype'>float64</div><div class='xr-var-preview xr-preview'>...</div><input id='attrs-8992966a-14ee-40f4-b9f7-6a498dfaf7b2' class='xr-var-attrs-in' type='checkbox' ><label for='attrs-8992966a-14ee-40f4-b9f7-6a498dfaf7b2' title='Show/Hide attributes'><svg class='icon xr-icon-file-text2'><use xlink:href='#icon-file-text2'></use></svg></label><input id='data-9f327eb1-8476-44df-94e1-1845959a0e5d' class='xr-var-data-in' type='checkbox'><label for='data-9f327eb1-8476-44df-94e1-1845959a0e5d' title='Show/Hide data repr'><svg class='icon xr-icon-database'><use xlink:href='#icon-database'></use></svg></label><div class='xr-var-attrs'><dl class='xr-attrs'><dt><span>dataset :</span></dt><dd>auxiliary</dd><dt><span>units :</span></dt><dd>AU</dd></dl></div><div class='xr-var-data'><pre>[91392 values with dtype=float64]</pre></div></li><li class='xr-var-item'><div class='xr-var-name'><span>planet_radius_m</span></div><div class='xr-var-dims'>(sample)</div><div class='xr-var-dtype'>float64</div><div class='xr-var-preview xr-preview'>...</div><input id='attrs-2aee3c68-3dd8-4da1-9c7a-3eec1fd56747' class='xr-var-attrs-in' type='checkbox' ><label for='attrs-2aee3c68-3dd8-4da1-9c7a-3eec1fd56747' title='Show/Hide attributes'><svg class='icon xr-icon-file-text2'><use xlink:href='#icon-file-text2'></use></svg></label><input id='data-13499ef2-98eb-4c71-92c7-aa33918679af' class='xr-var-data-in' type='checkbox'><label for='data-13499ef2-98eb-4c71-92c7-aa33918679af' title='Show/Hide data repr'><svg class='icon xr-icon-database'><use xlink:href='#icon-database'></use></svg></label><div class='xr-var-attrs'><dl class='xr-attrs'><dt><span>dataset :</span></dt><dd>auxiliary</dd><dt><span>units :</span></dt><dd>meters</dd></dl></div><div class='xr-var-data'><pre>[91392 values with dtype=float64]</pre></div></li><li class='xr-var-item'><div class='xr-var-name'><span>planet_surface_gravity</span></div><div class='xr-var-dims'>(sample)</div><div class='xr-var-dtype'>float64</div><div class='xr-var-preview xr-preview'>...</div><input id='attrs-2f3c6f8d-343a-485b-b0e6-180b4669ec60' class='xr-var-attrs-in' type='checkbox' ><label for='attrs-2f3c6f8d-343a-485b-b0e6-180b4669ec60' title='Show/Hide attributes'><svg class='icon xr-icon-file-text2'><use xlink:href='#icon-file-text2'></use></svg></label><input id='data-8abddbd2-c2ac-417c-99de-ce233efe4667' class='xr-var-data-in' type='checkbox'><label for='data-8abddbd2-c2ac-417c-99de-ce233efe4667' title='Show/Hide data repr'><svg class='icon xr-icon-database'><use xlink:href='#icon-database'></use></svg></label><div class='xr-var-attrs'><dl class='xr-attrs'><dt><span>dataset :</span></dt><dd>auxiliary</dd><dt><span>units :</span></dt><dd>ms^-2</dd></dl></div><div class='xr-var-data'><pre>[91392 values with dtype=float64]</pre></div></li><li class='xr-var-item'><div class='xr-var-name'><span>valid_quartiles</span></div><div class='xr-var-dims'>(sample)</div><div class='xr-var-dtype'>bool</div><div class='xr-var-preview xr-preview'>...</div><input id='attrs-51bc1cfc-c173-4b8a-8035-5f5a65dceaf6' class='xr-var-attrs-in' type='checkbox' ><label for='attrs-51bc1cfc-c173-4b8a-8035-5f5a65dceaf6' title='Show/Hide attributes'><svg class='icon xr-icon-file-text2'><use xlink:href='#icon-file-text2'></use></svg></label><input id='data-0ff56e3f-297a-468f-96f6-b8d602f0977c' class='xr-var-data-in' type='checkbox'><label for='data-0ff56e3f-297a-468f-96f6-b8d602f0977c' title='Show/Hide data repr'><svg class='icon xr-icon-database'><use xlink:href='#icon-database'></use></svg></label><div class='xr-var-attrs'><dl class='xr-attrs'><dt><span>description :</span></dt><dd>True for samples with asociated retrieval quartiles</dd></dl></div><div class='xr-var-data'><pre>[91392 values with dtype=bool]</pre></div></li><li class='xr-var-item'><div class='xr-var-name'><span>parameter_quartiles</span></div><div class='xr-var-dims'>(sample, parameter, quartile)</div><div class='xr-var-dtype'>float64</div><div class='xr-var-preview xr-preview'>...</div><input id='attrs-79c19a7b-1924-46f7-847c-2d6facbb1bb5' class='xr-var-attrs-in' type='checkbox' ><label for='attrs-79c19a7b-1924-46f7-847c-2d6facbb1bb5' title='Show/Hide attributes'><svg class='icon xr-icon-file-text2'><use xlink:href='#icon-file-text2'></use></svg></label><input id='data-288c116b-3919-48c0-ba77-6f1b9a25325c' class='xr-var-data-in' type='checkbox'><label for='data-288c116b-3919-48c0-ba77-6f1b9a25325c' title='Show/Hide data repr'><svg class='icon xr-icon-database'><use xlink:href='#icon-database'></use></svg></label><div class='xr-var-attrs'><dl class='xr-attrs'><dt><span>dataset :</span></dt><dd>label</dd><dt><span>description :</span></dt><dd>retrieval quartiles for each label parameter</dd></dl></div><div class='xr-var-data'><pre>[1645056 values with dtype=float64]</pre></div></li><li class='xr-var-item'><div class='xr-var-name'><span>contributions</span></div><div class='xr-var-dims'>(sample, species, wavelength)</div><div class='xr-var-dtype'>float64</div><div class='xr-var-preview xr-preview'>...</div><input id='attrs-b3893677-a7e2-4b5f-bee9-4ed486a0778c' class='xr-var-attrs-in' type='checkbox' ><label for='attrs-b3893677-a7e2-4b5f-bee9-4ed486a0778c' title='Show/Hide attributes'><svg class='icon xr-icon-file-text2'><use xlink:href='#icon-file-text2'></use></svg></label><input id='data-6373a15b-148a-4ca3-9a29-bc0ae3c4648d' class='xr-var-data-in' type='checkbox'><label for='data-6373a15b-148a-4ca3-9a29-bc0ae3c4648d' title='Show/Hide data repr'><svg class='icon xr-icon-database'><use xlink:href='#icon-database'></use></svg></label><div class='xr-var-attrs'><dl class='xr-attrs'><dt><span>units :</span></dt><dd>transit depth</dd><dt><span>dataset :</span></dt><dd>taurex forward model</dd><dt><span>description :</span></dt><dd>spectra per species if only that species was present in the atmosphere</dd></dl></div><div class='xr-var-data'><pre>[23761920 values with dtype=float64]</pre></div></li><li class='xr-var-item'><div class='xr-var-name'><span>clean_forward_model</span></div><div class='xr-var-dims'>(sample, wavelength)</div><div class='xr-var-dtype'>float64</div><div class='xr-var-preview xr-preview'>...</div><input id='attrs-c21d3997-2bf9-414b-a29a-a9b132f73e97' class='xr-var-attrs-in' type='checkbox' ><label for='attrs-c21d3997-2bf9-414b-a29a-a9b132f73e97' title='Show/Hide attributes'><svg class='icon xr-icon-file-text2'><use xlink:href='#icon-file-text2'></use></svg></label><input id='data-0c98c485-4b39-44ea-aa42-346ad4142598' class='xr-var-data-in' type='checkbox'><label for='data-0c98c485-4b39-44ea-aa42-346ad4142598' title='Show/Hide data repr'><svg class='icon xr-icon-database'><use xlink:href='#icon-database'></use></svg></label><div class='xr-var-attrs'><dl class='xr-attrs'><dt><span>units :</span></dt><dd>transit depth</dd><dt><span>dataset :</span></dt><dd>taurex forward model</dd><dt><span>description :</span></dt><dd>forward model spectra with full species compliment present in the atmosphere, but no instrument noise simulated</dd></dl></div><div class='xr-var-data'><pre>[4752384 values with dtype=float64]</pre></div></li></ul></div></li><li class='xr-section-item'><input id='section-f608dc41-ebfb-4677-81cf-56494820ac9b' class='xr-section-summary-in' type='checkbox'  ><label for='section-f608dc41-ebfb-4677-81cf-56494820ac9b' class='xr-section-summary' >Indexes: <span>(5)</span></label><div class='xr-section-inline-details'></div><div class='xr-section-details'><ul class='xr-var-list'><li class='xr-var-item'><div class='xr-index-name'><div>wavelength</div></div><div class='xr-index-preview'>PandasIndex</div><input type='checkbox' disabled/><label></label><input id='index-ee9573ae-b5b1-48c7-8459-b1dfddc5f360' class='xr-index-data-in' type='checkbox'/><label for='index-ee9573ae-b5b1-48c7-8459-b1dfddc5f360' title='Show/Hide index repr'><svg class='icon xr-icon-database'><use xlink:href='#icon-database'></use></svg></label><div class='xr-index-data'><pre>PandasIndex(Index([              0.55,                0.7, 0.9500000000000001,\n",
              "       1.1563750000000002, 1.2749034375000003, 1.4055810398437503,\n",
              "       1.5496530964277349,  1.708492538811578,  1.883613024039765,\n",
              "       1.9695975000000001,      2.00918640975, 2.0495710565859753,\n",
              "        2.090767434823353, 2.1327918602633025, 2.1756609766545947,\n",
              "        2.219391762285352,  2.264001536707288, 2.3095079675951045,\n",
              "       2.3559290777437663,  2.403283252206416, 2.4515892455757653,\n",
              "        2.500866189411838, 2.5511335998190163, 2.6024113851753783,\n",
              "       2.6547198540174035,  2.708079723083153, 2.7625121255171248,\n",
              "        2.818038619240019,  2.874681195486743,  2.932462287516027,\n",
              "       2.9914047794950993, 3.0515320155629504,  3.112867809075766,\n",
              "        3.175436452038189, 3.2392627247241568,  3.304371905491112,\n",
              "       3.3707897807914833, 3.4385426553853926,  3.507657362758639,\n",
              "        3.578161275750088,  3.650082317392665, 3.7234489719722568,\n",
              "        4.032166666666667,  4.305457962962963,  4.597272336008233,\n",
              "        4.908865238782125,  5.241577216077359,  5.596839671833715,\n",
              "        5.976181027369112,  6.381233297001908, 6.8137391093542625,\n",
              "         7.27555920454383],\n",
              "      dtype=&#x27;float64&#x27;, name=&#x27;wavelength&#x27;))</pre></div></li><li class='xr-var-item'><div class='xr-index-name'><div>sample</div></div><div class='xr-index-preview'>PandasIndex</div><input type='checkbox' disabled/><label></label><input id='index-d03205a7-536d-4a76-9e63-dc12e8492e75' class='xr-index-data-in' type='checkbox'/><label for='index-d03205a7-536d-4a76-9e63-dc12e8492e75' title='Show/Hide index repr'><svg class='icon xr-icon-database'><use xlink:href='#icon-database'></use></svg></label><div class='xr-index-data'><pre>PandasIndex(Index([    0,     1,     2,     3,     4,     5,     6,     7,     8,     9,\n",
              "       ...\n",
              "       91382, 91383, 91384, 91385, 91386, 91387, 91388, 91389, 91390, 91391],\n",
              "      dtype=&#x27;int64&#x27;, name=&#x27;sample&#x27;, length=91392))</pre></div></li><li class='xr-var-item'><div class='xr-index-name'><div>parameter</div></div><div class='xr-index-preview'>PandasIndex</div><input type='checkbox' disabled/><label></label><input id='index-8a59892b-a63a-4cf9-a700-4b3550c816e7' class='xr-index-data-in' type='checkbox'/><label for='index-8a59892b-a63a-4cf9-a700-4b3550c816e7' title='Show/Hide index repr'><svg class='icon xr-icon-database'><use xlink:href='#icon-database'></use></svg></label><div class='xr-index-data'><pre>PandasIndex(Index([&#x27;planet_temp_k&#x27;, &#x27;log_H2O&#x27;, &#x27;log_CO2&#x27;, &#x27;log_CH4&#x27;, &#x27;log_CO&#x27;, &#x27;log_NH3&#x27;], dtype=&#x27;object&#x27;, name=&#x27;parameter&#x27;))</pre></div></li><li class='xr-var-item'><div class='xr-index-name'><div>quartile</div></div><div class='xr-index-preview'>PandasIndex</div><input type='checkbox' disabled/><label></label><input id='index-d23f62c8-43b0-4649-adb5-b6942e678328' class='xr-index-data-in' type='checkbox'/><label for='index-d23f62c8-43b0-4649-adb5-b6942e678328' title='Show/Hide index repr'><svg class='icon xr-icon-database'><use xlink:href='#icon-database'></use></svg></label><div class='xr-index-data'><pre>PandasIndex(Index([&#x27;q1&#x27;, &#x27;q2&#x27;, &#x27;q3&#x27;], dtype=&#x27;object&#x27;, name=&#x27;quartile&#x27;))</pre></div></li><li class='xr-var-item'><div class='xr-index-name'><div>species</div></div><div class='xr-index-preview'>PandasIndex</div><input type='checkbox' disabled/><label></label><input id='index-c2a8d68e-b868-4f88-b36f-56b1f91e22df' class='xr-index-data-in' type='checkbox'/><label for='index-c2a8d68e-b868-4f88-b36f-56b1f91e22df' title='Show/Hide index repr'><svg class='icon xr-icon-database'><use xlink:href='#icon-database'></use></svg></label><div class='xr-index-data'><pre>PandasIndex(Index([&#x27;H2O&#x27;, &#x27;CO2&#x27;, &#x27;CH4&#x27;, &#x27;CO&#x27;, &#x27;NH3&#x27;], dtype=&#x27;object&#x27;, name=&#x27;species&#x27;))</pre></div></li></ul></div></li><li class='xr-section-item'><input id='section-8060d35e-0f9d-4973-9ca4-c573d92fe609' class='xr-section-summary-in' type='checkbox' disabled ><label for='section-8060d35e-0f9d-4973-9ca4-c573d92fe609' class='xr-section-summary'  title='Expand/collapse section'>Attributes: <span>(0)</span></label><div class='xr-section-inline-details'></div><div class='xr-section-details'><dl class='xr-attrs'></dl></div></li></ul></div></div>"
            ],
            "text/plain": [
              "<xarray.Dataset> Size: 329MB\n",
              "Dimensions:                 (wavelength: 52, sample: 91392, parameter: 6,\n",
              "                             quartile: 3, species: 5)\n",
              "Coordinates:\n",
              "  * wavelength              (wavelength) float64 416B 0.55 0.7 ... 6.814 7.276\n",
              "  * sample                  (sample) int64 731kB 0 1 2 3 ... 91389 91390 91391\n",
              "  * parameter               (parameter) <U13 312B 'planet_temp_k' ... 'log_NH3'\n",
              "  * quartile                (quartile) <U2 24B 'q1' 'q2' 'q3'\n",
              "  * species                 (species) <U3 60B 'H2O' 'CO2' 'CH4' 'CO' 'NH3'\n",
              "Data variables: (12/22)\n",
              "    bin_width               (wavelength) float64 416B ...\n",
              "    spectrum                (sample, wavelength) float64 38MB ...\n",
              "    noise                   (sample, wavelength) float64 38MB ...\n",
              "    planet_temp_k           (sample) float64 731kB ...\n",
              "    log_H2O                 (sample) float64 731kB ...\n",
              "    log_CO2                 (sample) float64 731kB ...\n",
              "    ...                      ...\n",
              "    planet_radius_m         (sample) float64 731kB ...\n",
              "    planet_surface_gravity  (sample) float64 731kB ...\n",
              "    valid_quartiles         (sample) bool 91kB ...\n",
              "    parameter_quartiles     (sample, parameter, quartile) float64 13MB ...\n",
              "    contributions           (sample, species, wavelength) float64 190MB ...\n",
              "    clean_forward_model     (sample, wavelength) float64 38MB ..."
            ]
          },
          "execution_count": 4,
          "metadata": {},
          "output_type": "execute_result"
        }
      ],
      "source": [
        "# open hdf5\n",
        "path =\"data.hdf5\"\n",
        "\n",
        "ds = xr.open_dataset(path)\n",
        "ds"
      ]
    },
    {
      "cell_type": "markdown",
      "metadata": {
        "id": "LR04VODMjbSS"
      },
      "source": [
        "### 👀 Let's visualise some of this data\n",
        "The below code will extract the first (`i=0`) planet from the data and plot the spectra."
      ]
    },
    {
      "cell_type": "markdown",
      "metadata": {
        "id": "ItrNIc06jbST"
      },
      "source": [
        "## 🚀 Convert HDF5 Files to NumPy Arrays\n",
        "\n",
        "While HDF5 files are excellent for **storing and organizing large datasets**, working with them directly in Python can be less efficient for certain tasks, especially in **machine learning** workflows with frameworks like PyTorch. Here's why converting HDF5 data to **NumPy arrays** is a great idea:\n",
        "\n",
        "### ⚡ Speed and Performance\n",
        "- NumPy arrays are highly optimized for numerical computations and are faster to manipulate in Python 🏎️.\n",
        "- Machine learning ibraries like PyTorch which we will be using natively support NumPy arrays, allowing for seamless conversion to tensors and faster data loading 🔄.\n",
        "\n",
        "### 📚 Simplicity\n",
        "- NumPy arrays are easier to slice, index, and manipulate compared to hierarchical structures in HDF5 files 🧩.\n",
        "- Simplifies data preprocessing and transformation pipelines for machine learning.\n",
        "- We can also get rid of a lot of the unnessecary data in the HDF5 file that we are not interested in this time around\n"
      ]
    },
    {
      "cell_type": "code",
      "execution_count": null,
      "metadata": {
        "id": "6t3maBrJjbST",
        "outputId": "f0baedcb-e814-499c-e529-99b5181ece0d"
      },
      "outputs": [
        {
          "data": {
            "text/plain": [
              "(91392, 1)"
            ]
          },
          "execution_count": 6,
          "metadata": {},
          "output_type": "execute_result"
        }
      ],
      "source": [
        "label_names = ['log_H2O']\n",
        "labels = ds[label_names]\n",
        "labels_np = labels.to_array().values.T\n",
        "\n",
        "labels_np.shape"
      ]
    },
    {
      "cell_type": "code",
      "execution_count": null,
      "metadata": {
        "id": "XOEOXEMAjbSU",
        "outputId": "0bbcbf1f-e6e7-4b0d-b57b-1125bb5941d0"
      },
      "outputs": [
        {
          "data": {
            "text/plain": [
              "(91392, 52)"
            ]
          },
          "execution_count": 7,
          "metadata": {},
          "output_type": "execute_result"
        }
      ],
      "source": [
        "spectra_np = ds['spectrum'].values\n",
        "spectra_np.shape"
      ]
    },
    {
      "cell_type": "markdown",
      "metadata": {
        "id": "y0rWKNULjbSU"
      },
      "source": [
        "# 🧠 Creating the Neural Network Model\n",
        "\n",
        "This is where we will define the architecture of the model that we are going to train\n",
        "\n",
        "### 🚀 Model Structure\n",
        "\n",
        "`self.fc1 = nn.Linear(a, b)` creates a layer with `a` input features and `b` output features.\n",
        "\n",
        "So, `self.fc1 = nn.Linear(52, 512)` creates a layer with 52 input features and 512 output features.\n",
        "\n",
        "The number of input features for the first layer _must match the size of the data_ and similarly the size of the output of the last layer _must match the number of things you are trying to predict_, which in this case is only 1\n",
        "\n",
        "### 🧘‍♀️ Flexibility\n",
        "You can easily add more layers or modify the architecture to improve the model performance for specific use cases.\n"
      ]
    },
    {
      "cell_type": "code",
      "execution_count": null,
      "metadata": {
        "id": "f4xZABH9jbSU"
      },
      "outputs": [],
      "source": [
        "class model_A(nn.Module):\n",
        "    def __init__(self):\n",
        "        super(model_A, self).__init__()\n",
        "\n",
        "        self.fc1 = nn.Linear(52, 512)\n",
        "        self.fc2 = nn.Linear(512, 128)\n",
        "        self.fc3 = nn.Linear(128, 1)\n",
        "\n",
        "    def forward(self, x):\n",
        "        x = torch.relu(self.fc1(x))\n",
        "        x = torch.relu(self.fc2(x))\n",
        "        x = self.fc3(x)\n",
        "        return x"
      ]
    },
    {
      "cell_type": "markdown",
      "metadata": {
        "id": "LXPHQy-zjbSU"
      },
      "source": [
        "## ✍️ Student Task: Try different models\n",
        "Have a go training model A, B and C, and see which one you think has the better performance. If you are feeling up to it, create a model of your own and try training that as well. See if you can beat the loss performance of the models I have given you here."
      ]
    },
    {
      "cell_type": "code",
      "execution_count": null,
      "metadata": {
        "id": "0gVkXSFejbSV"
      },
      "outputs": [],
      "source": [
        "class model_B(nn.Module):\n",
        "    def __init__(self):\n",
        "        super(model_B, self).__init__()\n",
        "\n",
        "        self.fc1 = nn.Linear(52, 32)\n",
        "        self.fc2 = nn.Linear(32, 16)\n",
        "        self.fc3 = nn.Linear(16, 32)\n",
        "        self.fc4 = nn.Linear(32, 1)\n",
        "\n",
        "    def forward(self, x):\n",
        "        x = torch.relu(self.fc1(x))\n",
        "        x = torch.relu(self.fc2(x))\n",
        "        x = torch.relu(self.fc3(x))\n",
        "        x = self.fc4(x)\n",
        "        return x"
      ]
    },
    {
      "cell_type": "code",
      "execution_count": null,
      "metadata": {
        "id": "ht78egqljbSV"
      },
      "outputs": [],
      "source": [
        "class model_C(nn.Module):\n",
        "    def __init__(self):\n",
        "        super(model_C, self).__init__()\n",
        "\n",
        "        self.fc1 = nn.Linear(52, 1024)\n",
        "        self.fc2 = nn.Linear(1024, 1024)\n",
        "        self.fc3 = nn.Linear(1024, 1)\n",
        "\n",
        "    def forward(self, x):\n",
        "        x = torch.relu(self.fc1(x))\n",
        "        x = torch.relu(self.fc2(x))\n",
        "        x = self.fc3(x)\n",
        "        return x"
      ]
    },
    {
      "cell_type": "code",
      "execution_count": null,
      "metadata": {
        "id": "ArSlF3EVjbSV",
        "outputId": "ff4f637c-7e36-49e5-c824-ab3160618f61"
      },
      "outputs": [
        {
          "ename": "SyntaxError",
          "evalue": "invalid syntax (15345530.py, line 8)",
          "output_type": "error",
          "traceback": [
            "  \u001b[36mCell\u001b[39m\u001b[36m \u001b[39m\u001b[32mIn[11]\u001b[39m\u001b[32m, line 8\u001b[39m\n\u001b[31m    \u001b[39m\u001b[31mdef forward(self, x):\u001b[39m\n    ^\n\u001b[31mSyntaxError\u001b[39m\u001b[31m:\u001b[39m invalid syntax\n"
          ]
        }
      ],
      "source": [
        "class model_D(nn.Module):\n",
        "    def __init__(self):\n",
        "        super(model_D, self).__init__()\n",
        "\n",
        "        self.fc1 = nn.Linear( # Your code here...\n",
        "\n",
        "\n",
        "    def forward(self, x):\n",
        "        x = torch.relu(self.fc1(x))\n",
        "        x = torch.relu( # Your code here...\n",
        "\n",
        "        return x"
      ]
    },
    {
      "cell_type": "markdown",
      "metadata": {
        "id": "E5HHjfs-jbSV"
      },
      "source": [
        "### 🔀 Change the model used here!\n",
        "\n",
        "Modify the line below to change which model is being used to train"
      ]
    },
    {
      "cell_type": "code",
      "execution_count": null,
      "metadata": {
        "id": "_1rFHO-wjbSW"
      },
      "outputs": [],
      "source": [
        "model = # Modify this to select the model of your choice!"
      ]
    },
    {
      "cell_type": "markdown",
      "metadata": {
        "id": "0BY5-SSRjbSW"
      },
      "source": [
        "This is where we define the loss function, which is evaluating how good your model is at predicting the amount of water in the planet atmosphere."
      ]
    },
    {
      "cell_type": "code",
      "execution_count": null,
      "metadata": {
        "id": "-lgWil4TjbSW"
      },
      "outputs": [],
      "source": [
        "# create a loss function\n",
        "criterion = nn.MSELoss()"
      ]
    },
    {
      "cell_type": "markdown",
      "metadata": {
        "id": "uiMaYwe7jbSW"
      },
      "source": [
        "## 📈 Understanding The Optimiser and _Learning Rate_\n",
        "\n",
        "The **learning rate** (often denoted as `lr`) is a critical hyperparameter in machine learning algorithms. It determines the amount of change that is made to the model weights each epoch to get closer to the solution.\n",
        "\n",
        "### How It Works\n",
        "- During training, the model updates its parameters (weights) to reduce the error by following the loss function.\n",
        "- The learning rate controls how much the parameters are adjusted in each update 🛠️.\n",
        "\n",
        "### Choosing the Right Learning Rate\n",
        "- **Too High**: The model may overshoot the optimal solution, causing the loss to oscillate or even diverge 🚀❌.\n",
        "- **Too Low**: The training process will be very slow and might get stuck in local minima, which is where the model can't keep taking smaller steps to get to a better solution, but needs to try something radically different to keep exploring.\n",
        "- **Just Right**: A properly tuned learning rate helps the model converge efficiently onto the solution 🎯.\n",
        "\n",
        "The learning rate is a key factor in determining the speed and success of your training process. A good choice can make the difference between a well-trained model and one that fails to converge! 🏆✨\n"
      ]
    },
    {
      "cell_type": "markdown",
      "metadata": {
        "id": "awAijthljbSW"
      },
      "source": [
        "here we assign the optimiser, which controls the learning rate.\n",
        "\n",
        "### ✍️ Student Task: Learning rate exploration\n",
        "Modify the learning rate to see the effect that this has on model training."
      ]
    },
    {
      "cell_type": "code",
      "execution_count": null,
      "metadata": {
        "id": "GQ2VX1-LjbSW"
      },
      "outputs": [],
      "source": [
        "lr = 0.0005\n",
        "\n",
        "optimizer = optim.Adam(model.parameters(), lr=lr)"
      ]
    },
    {
      "cell_type": "markdown",
      "metadata": {
        "id": "oVNso_LujbSW"
      },
      "source": [
        "# 🗂️ Understanding Batch Size in Machine Learning\n",
        "\n",
        "**Batch size** is an important hyperparameter in machine learning that defines the number of **training examples** processed together before the model updates its parameters.\n",
        "\n",
        "### How It Works\n",
        "- During training, data is divided into smaller subsets called **batches**.\n",
        "- Each batch is used to calculate the **loss** and perform a single **gradient update**.\n",
        "\n",
        "### Types of Batch Sizes\n",
        "1. **Small Batch (Mini-batch)**:\n",
        "   - Size: Usually between 32 and 512.\n",
        "   - **Pros**: Faster updates, better generalization 🏃.\n",
        "   - **Cons**: More noise in gradients 🚧.\n",
        "2. **Large Batch**:\n",
        "   - Size: Can be thousands of examples.\n",
        "   - **Pros**: More stable gradients, efficient training on larger machines 💻.\n",
        "   - **Cons**: Higher memory usage, and can potentially cause overfitting, where the model has been optimised for only a certain subset of the true data, meaning it will likely perform badly on examples that are not present within the training dataset 📈.\n",
        "3. **Full Batch**:\n",
        "   - All data is processed at once.\n",
        "   - Rarely used due to memory and speed limitations 🐢.\n",
        "\n",
        "### Choosing the Right Batch Size\n",
        "- **Small Batch Sizes**: Often better for noisy datasets and limited hardware resources 🎯.\n",
        "- **Larger Batch Sizes**: Useful for smooth convergence when sufficient computational power is available 💪.\n",
        "\n",
        "### Impact on Training\n",
        "- Smaller batches add **stochasticity** to training, which is like adding noise and randomness. It helps models generalize better, because within each batch the model is training to a small subset of the data, which is likely not representative of the full distribution. This means that the model needs to learn to cope better with data which is outside of the subset of data which it was trained on.\n",
        "- Larger batches make training more deterministic, which can lead to faster convergence but may reduce generalization.\n",
        "\n",
        "The choice of batch size is a balance between **training speed, memory constraints, and model performance**. It’s often best to experiment with different sizes to find the optimal value for your task! 🏆✨\n"
      ]
    },
    {
      "cell_type": "markdown",
      "metadata": {
        "id": "wSewRYhGjbSX"
      },
      "source": [
        "here we assign the data loader, which controls the batch size.\n",
        "\n",
        "### ✍️ Student Task: Batch size exploration\n",
        "Modify the batch size to see the effect that this has on model training."
      ]
    },
    {
      "cell_type": "code",
      "execution_count": null,
      "metadata": {
        "id": "DxoNKokMjbSX"
      },
      "outputs": [],
      "source": [
        "batch_size = 1000\n",
        "\n",
        "train_dataset = TensorDataset(torch.Tensor(spectra_np), torch.Tensor(labels_np))\n",
        "train_loader = DataLoader(train_dataset, batch_size=batch_size, shuffle=True)"
      ]
    },
    {
      "cell_type": "markdown",
      "metadata": {
        "id": "ibATaLeBjbSX"
      },
      "source": [
        "## 📈 Training Begins!\n",
        "\n",
        "Here we will start to train the model over a small number of epochs. Notice how the loss decreases (hopefully!) per epoch. This means the model is learning"
      ]
    },
    {
      "cell_type": "code",
      "execution_count": null,
      "metadata": {
        "id": "iNPbLVIxjbSX"
      },
      "outputs": [],
      "source": [
        "batch_losses = []\n",
        "epoch_losses = []\n",
        "\n",
        "\n",
        "# train the model\n",
        "model.train()\n",
        "for epoch in range(6):\n",
        "\n",
        "    for i, data in enumerate(train_loader):\n",
        "\n",
        "        inputs, labels = data\n",
        "        optimizer.zero_grad()\n",
        "        outputs = model(inputs)\n",
        "        loss = criterion(outputs, labels)\n",
        "        loss.backward()\n",
        "        optimizer.step()\n",
        "\n",
        "        batch_losses.append(loss.item())\n",
        "\n",
        "\n",
        "    epoch_losses.append(np.mean(batch_losses))\n",
        "    batch_losses = []\n",
        "\n",
        "    print(f'epoch {epoch}, loss {epoch_losses[-1]}')"
      ]
    },
    {
      "cell_type": "markdown",
      "metadata": {
        "id": "pVLiGFUrjbSX"
      },
      "source": [
        "## 👀 Visualising the training process\n",
        "\n",
        "Lets visualise this like we were doing in class. by creating some functions which plot the data."
      ]
    },
    {
      "cell_type": "code",
      "execution_count": null,
      "metadata": {
        "id": "6HWcYB6OjbSX"
      },
      "outputs": [],
      "source": [
        "def plot_loss(losses, epoch):\n",
        "\n",
        "    losses = np.array(losses)\n",
        "\n",
        "    plt.figure()\n",
        "    plt.plot(losses, \"k-\")\n",
        "\n",
        "    plt.xlabel('epoch')\n",
        "    plt.ylabel('loss')\n",
        "    plt.title(f'training loss\\nepoch: {epoch}')\n",
        "\n",
        "    plt.yscale('log')\n",
        "\n",
        "    plt.ylim(losses.mean() - 3 * losses.std(), 4)\n",
        "\n",
        "    plt.savefig('training_loss.png')\n",
        "    plt.close()"
      ]
    },
    {
      "cell_type": "code",
      "execution_count": null,
      "metadata": {
        "id": "TnkD6wbhjbSY"
      },
      "outputs": [],
      "source": [
        "def plot_predictions(predictions, labels, epoch):\n",
        "    # make sure plot is square\n",
        "    plt.figure(figsize=(5, 5))\n",
        "    plt.plot(labels, predictions, \"k.\", label='predictions')\n",
        "    plt.plot(labels, labels, \"r--\", label='Ground Truth')\n",
        "    plt.xlabel('true log H2O value')\n",
        "    plt.ylabel('predicted H2O value')\n",
        "    plt.title(f'predictions\\nepoch: {epoch}')\n",
        "\n",
        "    plt.xlim(labels.min(), labels.max())\n",
        "    plt.ylim(labels.min(), labels.max())\n",
        "\n",
        "    plt.savefig('predictions.png')\n",
        "    plt.close()"
      ]
    },
    {
      "cell_type": "markdown",
      "metadata": {
        "id": "nSm03ILNjbSY"
      },
      "source": [
        "## 🚴‍♀️ Training for real\n",
        "\n",
        "Lets run a lot more epochs of training, with this new visualisation.\n",
        "\n",
        "_Hint: If the loss looks like it is still decreasing after the 50 epochs I have used here, then up this number, with the caviat of course that more epochs of training will take longer to run. We can speed up the training in a minute by using a GPU_\n",
        "\n",
        "The model should save 2 image files, which are updated as the training goes on, which you can see in the left hand bar under the folder icon 📁. One will show the batch prediction against the truth, and the other will show the loss history 🕰️."
      ]
    },
    {
      "cell_type": "code",
      "execution_count": null,
      "metadata": {
        "id": "oREplpx9jbSY"
      },
      "outputs": [],
      "source": [
        "batch_losses = []\n",
        "epoch_losses = []\n",
        "\n",
        "\n",
        "# train the model\n",
        "model.train()\n",
        "for epoch in range(50):\n",
        "\n",
        "    for i, data in enumerate(train_loader):\n",
        "\n",
        "        inputs, labels = data\n",
        "        optimizer.zero_grad()\n",
        "        outputs = model(inputs)\n",
        "        loss = criterion(outputs, labels)\n",
        "        loss.backward()\n",
        "        optimizer.step()\n",
        "\n",
        "        batch_losses.append(loss.item())\n",
        "\n",
        "\n",
        "    epoch_losses.append(np.mean(batch_losses))\n",
        "    batch_losses = []\n",
        "\n",
        "\n",
        "    if epoch % 5 == 0: # this code only executes every 5 epochs\n",
        "        plot_loss(epoch_losses, epoch)\n",
        "        plot_predictions(outputs.detach().numpy(), labels.detach().numpy(), epoch)\n",
        "\n",
        "    if epoch % 20 == 0: # this code only executes every 20 epochs\n",
        "        print(f'epoch {epoch}, loss {epoch_losses[-1]}')"
      ]
    },
    {
      "cell_type": "markdown",
      "metadata": {
        "id": "7c1FiWOBjbSZ"
      },
      "source": [
        "# 🚨 If you are working through this at home **stop here**\n",
        "## We will cover this next session in class"
      ]
    },
    {
      "cell_type": "markdown",
      "metadata": {
        "id": "V0C1f2IejbSZ"
      },
      "source": [
        "---\n",
        "### ✍️ Student Task: Lets put these models to the test.\n",
        "\n",
        "We will now test our best model against some planets that it has not seen before in training! As we train the model, we will calculate the model performance on the seen (train) data, and also on unseen (test) data. This helps us to get a better understanding of the model capabilities.\n",
        "\n",
        "We need to define a new loss plotting function for testing our competition models as we have an extra dataset to consider"
      ]
    },
    {
      "cell_type": "code",
      "execution_count": null,
      "metadata": {
        "id": "fh5rNwdhjbSZ"
      },
      "outputs": [],
      "source": [
        "def plot_loss(losses, test_losses, epoch):\n",
        "\n",
        "    losses = np.array(losses)\n",
        "    test_losses = np.array(test_losses)\n",
        "\n",
        "    plt.figure()\n",
        "    plt.plot(losses, \"k-\", label='train loss')\n",
        "    plt.plot(test_losses, \"g-\", label='test loss')\n",
        "\n",
        "    plt.xlabel('epoch')\n",
        "    plt.ylabel('loss')\n",
        "    plt.title(f'training loss\\nepoch: {epoch}')\n",
        "\n",
        "    plt.yscale('log')\n",
        "    plt.legend()\n",
        "\n",
        "    plt.ylim(test_losses.mean() - 3 * test_losses.std(), 4)\n",
        "\n",
        "    plt.savefig('training_loss.png')\n",
        "    plt.close()"
      ]
    },
    {
      "cell_type": "markdown",
      "metadata": {
        "id": "G-IAwi_yjbSZ"
      },
      "source": [
        "\n",
        "### 🏁 Competition Time! 🏁"
      ]
    },
    {
      "cell_type": "code",
      "execution_count": null,
      "metadata": {
        "id": "q0doVj8qjbSf"
      },
      "outputs": [],
      "source": [
        "# split train into train and test - we will use the test data to evaluate the model for our competition score!\n",
        "\n",
        "tts = [0.8, 0.2]\n",
        "seed = 42\n",
        "train_spectra, test_spectra, train_labels, test_labels = train_test_split(spectra_np, labels_np, test_size=tts[1], random_state=seed)\n",
        "\n",
        "# print shapes in table\n",
        "print(f\"\"\"\n",
        "train_spectra: {train_spectra.shape}\n",
        "train_labels: {train_labels.shape}\n",
        "\n",
        "test_spectra: {test_spectra.shape}\n",
        "test_labels: {test_labels.shape}\n",
        "\"\"\")"
      ]
    },
    {
      "cell_type": "markdown",
      "metadata": {
        "id": "TKHg6-DNjbSf"
      },
      "source": [
        "## ⤵️ Define your best model here"
      ]
    },
    {
      "cell_type": "code",
      "execution_count": null,
      "metadata": {
        "id": "9jOP_3VfjbSg"
      },
      "outputs": [],
      "source": [
        "model = # Your code here...\n",
        "lr = # Your code here...\n",
        "batch_size = # Your code here...\n",
        "\n",
        "\n",
        "# use GPU if available for faster training times\n",
        "if torch.cuda.is_available():\n",
        "    device = torch.device(\"cuda\")\n",
        "    print('Using GPU')\n",
        "elif torch.mps.is_available():\n",
        "    device = torch.device(\"mps\")\n",
        "    print('Using MPS')\n",
        "else:\n",
        "    device = torch.device(\"cpu\")\n",
        "    print('Using CPU')\n",
        "\n",
        "model.to(device)\n",
        "test_spectra = torch.Tensor(test_spectra).to(device)\n",
        "test_labels = torch.Tensor(test_labels).to(device)\n",
        "\n",
        "optimizer = optim.Adam(model.parameters(), lr=lr)\n",
        "train_dataset = TensorDataset(torch.Tensor(train_spectra).to(device), torch.Tensor(train_labels).to(device))\n",
        "train_loader = DataLoader(train_dataset, batch_size=batch_size, shuffle=True)"
      ]
    },
    {
      "cell_type": "markdown",
      "metadata": {
        "id": "O94yyOg9jbSg"
      },
      "source": [
        "## ⤵️ Train your competition model here by running this cell"
      ]
    },
    {
      "cell_type": "code",
      "execution_count": null,
      "metadata": {
        "id": "EpzzbYEbjbSg"
      },
      "outputs": [],
      "source": [
        "batch_losses = []\n",
        "epoch_train_losses = []\n",
        "epoch_test_losses = []\n",
        "\n",
        "# train the model\n",
        "model.train()\n",
        "for epoch in range(500):\n",
        "    for i, data in enumerate(train_loader):\n",
        "        inputs, labels = data\n",
        "        optimizer.zero_grad()\n",
        "        outputs = model(inputs)\n",
        "        loss = criterion(outputs, labels)\n",
        "        loss.backward()\n",
        "        optimizer.step()\n",
        "\n",
        "        batch_losses.append(loss.item())\n",
        "\n",
        "    with torch.no_grad():\n",
        "        test_outputs = model(torch.Tensor(test_spectra))\n",
        "        test_loss = criterion(test_outputs, test_labels)\n",
        "\n",
        "    epoch_test_losses.append(test_loss.item())\n",
        "    epoch_train_losses.append(np.mean(batch_losses))\n",
        "    batch_losses = []\n",
        "\n",
        "    if epoch % 5 == 0:\n",
        "        plot_loss(epoch_train_losses,epoch_test_losses, epoch)\n",
        "        plot_predictions(outputs.to('cpu').detach().numpy(), labels.to('cpu').detach().numpy(), epoch)\n",
        "\n",
        "    if epoch % 20 == 0:\n",
        "        print(f'epoch {epoch}, train loss {epoch_losses[-1]}, test loss {test_loss.item()}')\n"
      ]
    },
    {
      "cell_type": "code",
      "execution_count": null,
      "metadata": {
        "id": "pt9Y_nc2jbSg"
      },
      "outputs": [],
      "source": [
        "# plot the final predictions\n",
        "with torch.no_grad():\n",
        "    test_outputs = model(test_spectra)\n",
        "    plot_predictions(test_outputs.to('cpu').numpy(), test_labels.to('cpu').numpy(), 'final')\n",
        "\n",
        "# open predictions.png and display here\n",
        "plt.imshow(plt.imread('predictions.png'))\n",
        "plt.axis('off')\n",
        "plt.show()"
      ]
    },
    {
      "cell_type": "code",
      "execution_count": null,
      "metadata": {
        "id": "5GzByeLajbSg"
      },
      "outputs": [],
      "source": [
        "print(f'best test loss: {min(epoch_test_losses)}')\n",
        "print('---')\n",
        "print(f'model architecture: {model}')\n",
        "print(f'learning rate: {lr}')\n",
        "print(f'batch size: {batch_size}')"
      ]
    }
  ],
  "metadata": {
    "kernelspec": {
      "display_name": "Ariel",
      "language": "python",
      "name": "python3"
    },
    "language_info": {
      "codemirror_mode": {
        "name": "ipython",
        "version": 3
      },
      "file_extension": ".py",
      "mimetype": "text/x-python",
      "name": "python",
      "nbconvert_exporter": "python",
      "pygments_lexer": "ipython3",
      "version": "3.12.9"
    },
    "colab": {
      "provenance": []
    }
  },
  "nbformat": 4,
  "nbformat_minor": 0
}